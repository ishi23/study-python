{
 "cells": [
  {
   "cell_type": "code",
   "execution_count": null,
   "metadata": {},
   "outputs": [],
   "source": [
    "# 俯瞰情報の確認\n",
    "\n",
    "# 行数、列数、各列のDtype、各列のnull数、使用メモリを表示\n",
    "df.info()\n",
    "\n",
    "# 行列数のみ表示\n",
    "df.shape\n",
    "\n",
    "# 数値データ各列のcount,mean,std,min,max,25%ile,50%ile,75%tileを表示\n",
    "df.describe()\n",
    "# 文字列データ各列の情報（count,unique,top(最頻値),freq(最頻値の個数))を取得\n",
    "df.describe(inculude='O')\n",
    "# 出力はDFなので、各出力値はここから取り出せる\n",
    "# df.describe().loc['index','col'] みたいな感じ\n",
    "\n",
    "# まとめて取得\n",
    "df.describe(include='all')\n",
    "\n",
    "# ユニークの値のndarrayを取得\n",
    "df['colname'].unique()\n",
    "# ユニーク数を確認（describeでも出てる）\n",
    "df['colname'].nunique()\n",
    "\n",
    "# %ileを任意に取得（25%刻みはdescribeで出てる）\n",
    "df['colname'].quantile([0.1*i for i in range(11)])"
   ]
  }
 ],
 "metadata": {
  "kernelspec": {
   "display_name": "Python 3",
   "language": "python",
   "name": "python3"
  },
  "language_info": {
   "codemirror_mode": {
    "name": "ipython",
    "version": 3
   },
   "file_extension": ".py",
   "mimetype": "text/x-python",
   "name": "python",
   "nbconvert_exporter": "python",
   "pygments_lexer": "ipython3",
   "version": "3.6.11"
  }
 },
 "nbformat": 4,
 "nbformat_minor": 4
}
