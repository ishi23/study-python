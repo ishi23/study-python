{
 "cells": [
  {
   "cell_type": "markdown",
   "metadata": {},
   "source": [
    "# 環境出力：\n",
    "### 再現性確保のため、インポート後に最初に入れておく\n",
    "### ここではprintしているが、結果の出力やログに対して入れる想定。"
   ]
  },
  {
   "cell_type": "markdown",
   "metadata": {},
   "source": [
    "## 最初に結論"
   ]
  },
  {
   "cell_type": "code",
   "execution_count": 19,
   "metadata": {},
   "outputs": [
    {
     "name": "stdout",
     "output_type": "stream",
     "text": [
      "OS: Darwin-19.6.0-x86_64-i386-64bit\n",
      "python_version: sys.version_info(major=3, minor=6, micro=11, releaselevel='final', serial=0)\n",
      "numpy_version: 1.19.1\n"
     ]
    }
   ],
   "source": [
    "# OS\n",
    "import platform\n",
    "print('OS: '+platform.platform())\n",
    "# python\n",
    "import sys\n",
    "print('python_version: '+str(sys.version_info))\n",
    "# packages\n",
    "import numpy as np\n",
    "print('numpy_version: '+np.__version__)"
   ]
  },
  {
   "cell_type": "markdown",
   "metadata": {},
   "source": [
    "### OS\n",
    "https://note.nkmk.me/python-platform-system-release-version/"
   ]
  },
  {
   "cell_type": "code",
   "execution_count": 5,
   "metadata": {},
   "outputs": [
    {
     "name": "stdout",
     "output_type": "stream",
     "text": [
      "Darwin-19.6.0-x86_64-i386-64bit\n"
     ]
    }
   ],
   "source": [
    "import platform\n",
    "print(platform.platform())"
   ]
  },
  {
   "cell_type": "markdown",
   "metadata": {},
   "source": [
    "### pythonのバージョン\n",
    "https://qiita.com/vmmhypervisor/items/67e5596f1188f00fbb09"
   ]
  },
  {
   "cell_type": "code",
   "execution_count": 3,
   "metadata": {},
   "outputs": [
    {
     "data": {
      "text/plain": [
       "sys.version_info(major=3, minor=6, micro=11, releaselevel='final', serial=0)"
      ]
     },
     "execution_count": 3,
     "metadata": {},
     "output_type": "execute_result"
    }
   ],
   "source": [
    "# sysで確認。\n",
    "import sys\n",
    "sys.version_info"
   ]
  },
  {
   "cell_type": "markdown",
   "metadata": {},
   "source": [
    "### Packageのバージョン\n",
    "https://note.nkmk.me/python-package-version/"
   ]
  },
  {
   "cell_type": "code",
   "execution_count": 21,
   "metadata": {},
   "outputs": [
    {
     "data": {
      "text/plain": [
       "'1.19.1'"
      ]
     },
     "execution_count": 21,
     "metadata": {},
     "output_type": "execute_result"
    }
   ],
   "source": [
    "# __version__属性。\n",
    "\"\"\"PEPで推奨され多くのパッケージに設定されているが、必ずしもあるわけではない。\n",
    "また、mathやos標準ライブラリのモジュールには__version__は設定されていない。\n",
    "標準ライブラリのモジュールは個別にバージョンを持っているわけではなく、Python本体のバージョンに準ずる。\"\"\"\n",
    "import numpy as np\n",
    "np.__version__"
   ]
  },
  {
   "cell_type": "code",
   "execution_count": null,
   "metadata": {},
   "outputs": [],
   "source": []
  }
 ],
 "metadata": {
  "kernelspec": {
   "display_name": "Python 3",
   "language": "python",
   "name": "python3"
  },
  "language_info": {
   "codemirror_mode": {
    "name": "ipython",
    "version": 3
   },
   "file_extension": ".py",
   "mimetype": "text/x-python",
   "name": "python",
   "nbconvert_exporter": "python",
   "pygments_lexer": "ipython3",
   "version": "3.6.11"
  }
 },
 "nbformat": 4,
 "nbformat_minor": 4
}
