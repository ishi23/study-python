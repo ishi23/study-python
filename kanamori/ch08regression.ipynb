{
 "cells": [
  {
   "cell_type": "markdown",
   "metadata": {},
   "source": [
    "# 線形回帰\n",
    "- 最小二乗法\n",
    "- ロバスト回帰（Huber, RAMSAC, etc)\n",
    "- ラッソ回帰（L1正則化）、リッジ回帰（L2正則化）、カーネル回帰"
   ]
  },
  {
   "cell_type": "code",
   "execution_count": 1,
   "metadata": {},
   "outputs": [],
   "source": [
    "import numpy as np               \n",
    "import matplotlib.pyplot as plt  \n",
    "import pandas as pd\n",
    "import statsmodels.api as sm"
   ]
  },
  {
   "cell_type": "markdown",
   "metadata": {},
   "source": [
    "## 最小二乗法: Ordinary Least Squares (OLS)"
   ]
  },
  {
   "cell_type": "markdown",
   "metadata": {},
   "source": [
    "## sklearn.linearmodel.LinearRegression() と　statsmodel.api.OLS()\n",
    "- 結果は同じ\n",
    "- sklearnはシンプルだが、得られる情報は単回帰式とR-squareのみ\n",
    "- statsmodelはcoefカラムを追加するという謎の操作が入るが、得られる情報が多い.. summary()関数の出力参照"
   ]
  },
  {
   "cell_type": "code",
   "execution_count": 7,
   "metadata": {},
   "outputs": [
    {
     "data": {
      "text/html": [
       "<div>\n",
       "<style scoped>\n",
       "    .dataframe tbody tr th:only-of-type {\n",
       "        vertical-align: middle;\n",
       "    }\n",
       "\n",
       "    .dataframe tbody tr th {\n",
       "        vertical-align: top;\n",
       "    }\n",
       "\n",
       "    .dataframe thead th {\n",
       "        text-align: right;\n",
       "    }\n",
       "</style>\n",
       "<table border=\"1\" class=\"dataframe\">\n",
       "  <thead>\n",
       "    <tr style=\"text-align: right;\">\n",
       "      <th></th>\n",
       "      <th>infant.mortality</th>\n",
       "      <th>gdp</th>\n",
       "    </tr>\n",
       "  </thead>\n",
       "  <tbody>\n",
       "    <tr>\n",
       "      <th>Afghanistan</th>\n",
       "      <td>154.0</td>\n",
       "      <td>2848.0</td>\n",
       "    </tr>\n",
       "    <tr>\n",
       "      <th>Albania</th>\n",
       "      <td>32.0</td>\n",
       "      <td>863.0</td>\n",
       "    </tr>\n",
       "    <tr>\n",
       "      <th>Algeria</th>\n",
       "      <td>44.0</td>\n",
       "      <td>1531.0</td>\n",
       "    </tr>\n",
       "    <tr>\n",
       "      <th>American.Samoa</th>\n",
       "      <td>11.0</td>\n",
       "      <td>NaN</td>\n",
       "    </tr>\n",
       "    <tr>\n",
       "      <th>Andorra</th>\n",
       "      <td>NaN</td>\n",
       "      <td>NaN</td>\n",
       "    </tr>\n",
       "  </tbody>\n",
       "</table>\n",
       "</div>"
      ],
      "text/plain": [
       "                infant.mortality     gdp\n",
       "Afghanistan                154.0  2848.0\n",
       "Albania                     32.0   863.0\n",
       "Algeria                     44.0  1531.0\n",
       "American.Samoa              11.0     NaN\n",
       "Andorra                      NaN     NaN"
      ]
     },
     "execution_count": 7,
     "metadata": {},
     "output_type": "execute_result"
    }
   ],
   "source": [
    "# データ読込み\n",
    "df_UN = pd.read_csv('data/UN.csv', index_col=0)\n",
    "df_UN.head()"
   ]
  },
  {
   "cell_type": "code",
   "execution_count": 13,
   "metadata": {},
   "outputs": [
    {
     "name": "stdout",
     "output_type": "stream",
     "text": [
      "(207, 2)\n",
      "[[ 154. 2848.]\n",
      " [  32.  863.]\n",
      " [  44. 1531.]\n",
      " [  11.   nan]\n",
      " [  nan   nan]]\n"
     ]
    }
   ],
   "source": [
    "UN = np.array(df_UN.values).astype('float64')\n",
    "print(UN.shape)  # データ行列のサイズ\n",
    "print(UN[:5])"
   ]
  },
  {
   "cell_type": "code",
   "execution_count": 14,
   "metadata": {},
   "outputs": [
    {
     "name": "stdout",
     "output_type": "stream",
     "text": [
      "[[ 154. 2848.]\n",
      " [  32.  863.]\n",
      " [  44. 1531.]\n",
      " [ 124.  355.]\n",
      " [  24. 6966.]]\n"
     ]
    }
   ],
   "source": [
    "UN = UN[~np.isnan(UN).any(axis=1),:]  # nanを含むデータを除く\n",
    "UN.shape  # nanを除いたデータ行列のサイズ\n",
    "print(UN[:5])"
   ]
  },
  {
   "cell_type": "code",
   "execution_count": 33,
   "metadata": {},
   "outputs": [
    {
     "data": {
      "image/png": "[encoded data removed]",
      "text/plain": [
       "<Figure size 432x288 with 1 Axes>"
      ]
     },
     "metadata": {},
     "output_type": "display_data"
    }
   ],
   "source": [
    "fig, ax = plt.subplots()\n",
    "ax.scatter(x=UN[:,1], y=UN[:,0], s=5, c='r', marker='^')\n",
    "ax.set(ylabel='infant mortality', xlabel='GDP');"
   ]
  },
  {
   "cell_type": "code",
   "execution_count": 37,
   "metadata": {},
   "outputs": [
    {
     "data": {
      "image/png": "[encoded data removed]",
      "text/plain": [
       "<Figure size 432x288 with 1 Axes>"
      ]
     },
     "metadata": {},
     "output_type": "display_data"
    }
   ],
   "source": [
    "fig, ax = plt.subplots()\n",
    "ax.scatter(x=UN[:,1], y=UN[:,0], s=5, c='g', marker='o')\n",
    "ax.set(ylabel='infant mortality', xlabel='GDP', yscale='log', xscale='log');"
   ]
  },
  {
   "cell_type": "markdown",
   "metadata": {},
   "source": [
    "## sklearnでOLS"
   ]
  },
  {
   "cell_type": "code",
   "execution_count": 93,
   "metadata": {},
   "outputs": [],
   "source": [
    "from sklearn.linear_model import LinearRegression"
   ]
  },
  {
   "cell_type": "code",
   "execution_count": 94,
   "metadata": {},
   "outputs": [],
   "source": [
    "logUN = np.log(UN)           # データを対数で変換\n",
    "# データ\n",
    "x = logUN[:,1].reshape(-1,1)\n",
    "y = logUN[:,0] "
   ]
  },
  {
   "cell_type": "code",
   "execution_count": 95,
   "metadata": {},
   "outputs": [],
   "source": [
    "lr = LinearRegression()"
   ]
  },
  {
   "cell_type": "code",
   "execution_count": 96,
   "metadata": {},
   "outputs": [
    {
     "name": "stdout",
     "output_type": "stream",
     "text": [
      "[-0.49320262]\n",
      "1\n",
      "[22.96120204]\n",
      "7.045200799351165\n"
     ]
    }
   ],
   "source": [
    "lr.fit(x,y)\n",
    "print(lr.coef_)#傾き\n",
    "print(lr.rank_)\n",
    "print(lr.singular_)\n",
    "print(lr.intercept_)#切片"
   ]
  },
  {
   "cell_type": "code",
   "execution_count": 97,
   "metadata": {},
   "outputs": [
    {
     "data": {
      "text/plain": [
       "0.6556417238359502"
      ]
     },
     "execution_count": 97,
     "metadata": {},
     "output_type": "execute_result"
    }
   ],
   "source": [
    "lr.score(x,y)#R-square"
   ]
  },
  {
   "cell_type": "code",
   "execution_count": 98,
   "metadata": {},
   "outputs": [
    {
     "data": {
      "text/plain": [
       "{'copy_X': True, 'fit_intercept': True, 'n_jobs': None, 'normalize': False}"
      ]
     },
     "execution_count": 98,
     "metadata": {},
     "output_type": "execute_result"
    }
   ],
   "source": [
    "lr.get_params()"
   ]
  },
  {
   "cell_type": "code",
   "execution_count": 99,
   "metadata": {},
   "outputs": [
    {
     "data": {
      "image/png": "[encoded data removed]",
      "text/plain": [
       "<Figure size 432x288 with 1 Axes>"
      ]
     },
     "metadata": {},
     "output_type": "display_data"
    }
   ],
   "source": [
    "tx = np.linspace(x.min(),x.max(),100).reshape(-1,1) # 予測点の生成                        \n",
    "py = lr.predict(tx)                                # 予測値\n",
    "plt.xlabel('GDP'); plt.ylabel('infant.mortality')\n",
    "plt.xscale(\"log\"); plt.yscale(\"log\")\n",
    "plt.scatter(UN[:,1],UN[:,0], s=10, c='blue')        # データ点のプロット\n",
    "plt.plot(np.exp(tx),np.exp(py),'r-',lw=3)           # 予測結果のプロット\n",
    "plt.show()"
   ]
  },
  {
   "cell_type": "markdown",
   "metadata": {},
   "source": [
    "## statsmodelsでOLS"
   ]
  },
  {
   "cell_type": "code",
   "execution_count": 100,
   "metadata": {},
   "outputs": [],
   "source": [
    "logUN = np.log(UN)           # データを対数で変換\n",
    "# データ\n",
    "x = logUN[:,1]\n",
    "y = logUN[:,0] "
   ]
  },
  {
   "cell_type": "code",
   "execution_count": 101,
   "metadata": {},
   "outputs": [
    {
     "data": {
      "text/plain": [
       "array([[1.        , 7.95437227],\n",
       "       [1.        , 6.76041469],\n",
       "       [1.        , 7.3336764 ],\n",
       "       [1.        , 5.87211779],\n",
       "       [1.        , 8.84879645]])"
      ]
     },
     "execution_count": 101,
     "metadata": {},
     "output_type": "execute_result"
    }
   ],
   "source": [
    "xc = sm.add_constant(x)      # 定数項に対応する列を加える\n",
    "xc[:5]"
   ]
  },
  {
   "cell_type": "code",
   "execution_count": 102,
   "metadata": {},
   "outputs": [],
   "source": [
    "lf = sm.OLS(y,xc).fit()      # 最小二乗法"
   ]
  },
  {
   "cell_type": "code",
   "execution_count": 103,
   "metadata": {},
   "outputs": [
    {
     "data": {
      "text/plain": [
       "array([ 7.0452008 , -0.49320262])"
      ]
     },
     "execution_count": 103,
     "metadata": {},
     "output_type": "execute_result"
    }
   ],
   "source": [
    "lf.params                    # 推定された定数項と係数"
   ]
  },
  {
   "cell_type": "code",
   "execution_count": 104,
   "metadata": {},
   "outputs": [
    {
     "data": {
      "text/html": [
       "<table class=\"simpletable\">\n",
       "<caption>OLS Regression Results</caption>\n",
       "<tr>\n",
       "  <th>Dep. Variable:</th>            <td>y</td>        <th>  R-squared:         </th> <td>   0.656</td>\n",
       "</tr>\n",
       "<tr>\n",
       "  <th>Model:</th>                   <td>OLS</td>       <th>  Adj. R-squared:    </th> <td>   0.654</td>\n",
       "</tr>\n",
       "<tr>\n",
       "  <th>Method:</th>             <td>Least Squares</td>  <th>  F-statistic:       </th> <td>   363.7</td>\n",
       "</tr>\n",
       "<tr>\n",
       "  <th>Date:</th>             <td>Thu, 26 Nov 2020</td> <th>  Prob (F-statistic):</th> <td>4.32e-46</td>\n",
       "</tr>\n",
       "<tr>\n",
       "  <th>Time:</th>                 <td>00:33:11</td>     <th>  Log-Likelihood:    </th> <td> -172.27</td>\n",
       "</tr>\n",
       "<tr>\n",
       "  <th>No. Observations:</th>      <td>   193</td>      <th>  AIC:               </th> <td>   348.5</td>\n",
       "</tr>\n",
       "<tr>\n",
       "  <th>Df Residuals:</th>          <td>   191</td>      <th>  BIC:               </th> <td>   355.1</td>\n",
       "</tr>\n",
       "<tr>\n",
       "  <th>Df Model:</th>              <td>     1</td>      <th>                     </th>     <td> </td>   \n",
       "</tr>\n",
       "<tr>\n",
       "  <th>Covariance Type:</th>      <td>nonrobust</td>    <th>                     </th>     <td> </td>   \n",
       "</tr>\n",
       "</table>\n",
       "<table class=\"simpletable\">\n",
       "<tr>\n",
       "    <td></td>       <th>coef</th>     <th>std err</th>      <th>t</th>      <th>P>|t|</th>  <th>[0.025</th>    <th>0.975]</th>  \n",
       "</tr>\n",
       "<tr>\n",
       "  <th>const</th> <td>    7.0452</td> <td>    0.199</td> <td>   35.379</td> <td> 0.000</td> <td>    6.652</td> <td>    7.438</td>\n",
       "</tr>\n",
       "<tr>\n",
       "  <th>x1</th>    <td>   -0.4932</td> <td>    0.026</td> <td>  -19.070</td> <td> 0.000</td> <td>   -0.544</td> <td>   -0.442</td>\n",
       "</tr>\n",
       "</table>\n",
       "<table class=\"simpletable\">\n",
       "<tr>\n",
       "  <th>Omnibus:</th>       <td>10.055</td> <th>  Durbin-Watson:     </th> <td>   1.864</td>\n",
       "</tr>\n",
       "<tr>\n",
       "  <th>Prob(Omnibus):</th> <td> 0.007</td> <th>  Jarque-Bera (JB):  </th> <td>  21.166</td>\n",
       "</tr>\n",
       "<tr>\n",
       "  <th>Skew:</th>          <td> 0.097</td> <th>  Prob(JB):          </th> <td>2.53e-05</td>\n",
       "</tr>\n",
       "<tr>\n",
       "  <th>Kurtosis:</th>      <td> 4.611</td> <th>  Cond. No.          </th> <td>    36.4</td>\n",
       "</tr>\n",
       "</table><br/><br/>Notes:<br/>[1] Standard Errors assume that the covariance matrix of the errors is correctly specified."
      ],
      "text/plain": [
       "<class 'statsmodels.iolib.summary.Summary'>\n",
       "\"\"\"\n",
       "                            OLS Regression Results                            \n",
       "==============================================================================\n",
       "Dep. Variable:                      y   R-squared:                       0.656\n",
       "Model:                            OLS   Adj. R-squared:                  0.654\n",
       "Method:                 Least Squares   F-statistic:                     363.7\n",
       "Date:                Thu, 26 Nov 2020   Prob (F-statistic):           4.32e-46\n",
       "Time:                        00:33:11   Log-Likelihood:                -172.27\n",
       "No. Observations:                 193   AIC:                             348.5\n",
       "Df Residuals:                     191   BIC:                             355.1\n",
       "Df Model:                           1                                         \n",
       "Covariance Type:            nonrobust                                         \n",
       "==============================================================================\n",
       "                 coef    std err          t      P>|t|      [0.025      0.975]\n",
       "------------------------------------------------------------------------------\n",
       "const          7.0452      0.199     35.379      0.000       6.652       7.438\n",
       "x1            -0.4932      0.026    -19.070      0.000      -0.544      -0.442\n",
       "==============================================================================\n",
       "Omnibus:                       10.055   Durbin-Watson:                   1.864\n",
       "Prob(Omnibus):                  0.007   Jarque-Bera (JB):               21.166\n",
       "Skew:                           0.097   Prob(JB):                     2.53e-05\n",
       "Kurtosis:                       4.611   Cond. No.                         36.4\n",
       "==============================================================================\n",
       "\n",
       "Notes:\n",
       "[1] Standard Errors assume that the covariance matrix of the errors is correctly specified.\n",
       "\"\"\""
      ]
     },
     "execution_count": 104,
     "metadata": {},
     "output_type": "execute_result"
    }
   ],
   "source": [
    "lf.summary()"
   ]
  },
  {
   "cell_type": "code",
   "execution_count": 105,
   "metadata": {},
   "outputs": [
    {
     "data": {
      "text/html": [
       "<table class=\"simpletable\">\n",
       "<tr>\n",
       "        <td>Model:</td>               <td>OLS</td>         <td>Adj. R-squared:</td>     <td>0.654</td> \n",
       "</tr>\n",
       "<tr>\n",
       "  <td>Dependent Variable:</td>         <td>y</td>               <td>AIC:</td>         <td>348.5429</td>\n",
       "</tr>\n",
       "<tr>\n",
       "         <td>Date:</td>        <td>2020-11-26 00:33</td>        <td>BIC:</td>         <td>355.0683</td>\n",
       "</tr>\n",
       "<tr>\n",
       "   <td>No. Observations:</td>         <td>193</td>         <td>Log-Likelihood:</td>    <td>-172.27</td>\n",
       "</tr>\n",
       "<tr>\n",
       "       <td>Df Model:</td>              <td>1</td>           <td>F-statistic:</td>       <td>363.7</td> \n",
       "</tr>\n",
       "<tr>\n",
       "     <td>Df Residuals:</td>           <td>191</td>       <td>Prob (F-statistic):</td> <td>4.32e-46</td>\n",
       "</tr>\n",
       "<tr>\n",
       "      <td>R-squared:</td>            <td>0.656</td>            <td>Scale:</td>         <td>0.35266</td>\n",
       "</tr>\n",
       "</table>\n",
       "<table class=\"simpletable\">\n",
       "<tr>\n",
       "    <td></td>     <th>Coef.</th>  <th>Std.Err.</th>     <th>t</th>     <th>P>|t|</th> <th>[0.025</th>  <th>0.975]</th> \n",
       "</tr>\n",
       "<tr>\n",
       "  <th>const</th> <td>7.0452</td>   <td>0.1991</td>   <td>35.3790</td> <td>0.0000</td> <td>6.6524</td>  <td>7.4380</td> \n",
       "</tr>\n",
       "<tr>\n",
       "  <th>x1</th>    <td>-0.4932</td>  <td>0.0259</td>  <td>-19.0697</td> <td>0.0000</td> <td>-0.5442</td> <td>-0.4422</td>\n",
       "</tr>\n",
       "</table>\n",
       "<table class=\"simpletable\">\n",
       "<tr>\n",
       "     <td>Omnibus:</td>    <td>10.055</td>  <td>Durbin-Watson:</td>    <td>1.864</td>\n",
       "</tr>\n",
       "<tr>\n",
       "  <td>Prob(Omnibus):</td>  <td>0.007</td> <td>Jarque-Bera (JB):</td> <td>21.166</td>\n",
       "</tr>\n",
       "<tr>\n",
       "       <td>Skew:</td>      <td>0.097</td>     <td>Prob(JB):</td>      <td>0.000</td>\n",
       "</tr>\n",
       "<tr>\n",
       "     <td>Kurtosis:</td>    <td>4.611</td>  <td>Condition No.:</td>     <td>36</td>  \n",
       "</tr>\n",
       "</table>"
      ],
      "text/plain": [
       "<class 'statsmodels.iolib.summary2.Summary'>\n",
       "\"\"\"\n",
       "                 Results: Ordinary least squares\n",
       "=================================================================\n",
       "Model:              OLS              Adj. R-squared:     0.654   \n",
       "Dependent Variable: y                AIC:                348.5429\n",
       "Date:               2020-11-26 00:33 BIC:                355.0683\n",
       "No. Observations:   193              Log-Likelihood:     -172.27 \n",
       "Df Model:           1                F-statistic:        363.7   \n",
       "Df Residuals:       191              Prob (F-statistic): 4.32e-46\n",
       "R-squared:          0.656            Scale:              0.35266 \n",
       "-------------------------------------------------------------------\n",
       "          Coef.    Std.Err.      t       P>|t|     [0.025    0.975]\n",
       "-------------------------------------------------------------------\n",
       "const     7.0452     0.1991    35.3790   0.0000    6.6524    7.4380\n",
       "x1       -0.4932     0.0259   -19.0697   0.0000   -0.5442   -0.4422\n",
       "-----------------------------------------------------------------\n",
       "Omnibus:              10.055       Durbin-Watson:          1.864 \n",
       "Prob(Omnibus):        0.007        Jarque-Bera (JB):       21.166\n",
       "Skew:                 0.097        Prob(JB):               0.000 \n",
       "Kurtosis:             4.611        Condition No.:          36    \n",
       "=================================================================\n",
       "\n",
       "\"\"\""
      ]
     },
     "execution_count": 105,
     "metadata": {},
     "output_type": "execute_result"
    }
   ],
   "source": [
    "lf.summary2()"
   ]
  },
  {
   "cell_type": "code",
   "execution_count": 106,
   "metadata": {},
   "outputs": [
    {
     "data": {
      "image/png": "[encoded data removed]",
      "text/plain": [
       "<Figure size 432x288 with 1 Axes>"
      ]
     },
     "metadata": {},
     "output_type": "display_data"
    }
   ],
   "source": [
    "tx = np.linspace(x.min(),x.max(),100).reshape(-1,1) # 予測点の生成\n",
    "txc = sm.add_constant(tx)                           \n",
    "py = lf.predict(txc)                                # 予測値\n",
    "plt.xlabel('GDP'); plt.ylabel('infant.mortality')\n",
    "plt.xscale(\"log\"); plt.yscale(\"log\")\n",
    "plt.scatter(UN[:,1],UN[:,0], s=10, c='blue')        # データ点のプロット\n",
    "plt.plot(np.exp(tx),np.exp(py),'r-',lw=3)           # 予測結果のプロット\n",
    "plt.show()"
   ]
  },
  {
   "cell_type": "markdown",
   "metadata": {},
   "source": [
    "# ロバスト回帰：外れ値(outliers)の影響を抑えるアルゴリズム\n",
    "- Huber Regressionは外れ値(outliers)に耐性のある回帰\n",
    "- RANSAC Regressionはy方向の外れ値を無視する回帰"
   ]
  },
  {
   "cell_type": "code",
   "execution_count": 110,
   "metadata": {},
   "outputs": [],
   "source": [
    "# Davisの体重と身長のデータを読込み\n",
    "dat = np.array(pd.read_csv('data/Davis.csv').values[:,1:3]).astype('float64')\n",
    "dat = dat[~np.isnan(dat).any(axis=1),:]  # nanを含むデータを除く\n",
    "x = dat[:,0].reshape(-1,1)      # 身長[cm]\n",
    "y = dat[:,-1]                   # 体重[kg]のデータ行列"
   ]
  },
  {
   "cell_type": "markdown",
   "metadata": {},
   "source": [
    "## sklearnでHuber"
   ]
  },
  {
   "cell_type": "code",
   "execution_count": 111,
   "metadata": {},
   "outputs": [],
   "source": [
    "from sklearn.linear_model import HuberRegressor"
   ]
  },
  {
   "cell_type": "code",
   "execution_count": 112,
   "metadata": {},
   "outputs": [
    {
     "data": {
      "text/plain": [
       "LinearRegression()"
      ]
     },
     "execution_count": 112,
     "metadata": {},
     "output_type": "execute_result"
    }
   ],
   "source": [
    "# 比較用の普通の線形回帰\n",
    "linear = LinearRegression()\n",
    "linear.fit(x,y)"
   ]
  },
  {
   "cell_type": "code",
   "execution_count": 113,
   "metadata": {},
   "outputs": [
    {
     "data": {
      "text/plain": [
       "HuberRegressor()"
      ]
     },
     "execution_count": 113,
     "metadata": {},
     "output_type": "execute_result"
    }
   ],
   "source": [
    "# Huber回帰\n",
    "huber = HuberRegressor()\n",
    "huber.fit(x,y)"
   ]
  },
  {
   "cell_type": "code",
   "execution_count": 114,
   "metadata": {},
   "outputs": [
    {
     "name": "stdout",
     "output_type": "stream",
     "text": [
      "[0.51167594]\n",
      "137.02280092049764\n",
      "3.703240350367849\n",
      "30\n",
      "[ True  True False  True  True  True  True  True False False False  True\n",
      " False False False False False False  True  True  True False False False\n",
      "  True False False False False  True  True False False False False  True\n",
      " False False False  True False False  True  True False False  True False\n",
      "  True  True False False  True False  True  True False  True False  True\n",
      "  True False  True False False  True False  True  True False  True False\n",
      " False False False  True False  True  True  True False False False False\n",
      " False  True  True False False False False False False  True  True False\n",
      " False  True False  True False  True False False  True False  True False\n",
      " False False False False  True  True  True False False False  True  True\n",
      " False  True  True False  True  True  True False False False False False\n",
      "  True  True False False False False False  True False False False  True\n",
      " False  True False  True False False False False  True False False False\n",
      " False False False False False False False False False  True False False\n",
      " False  True  True False False False False False  True False False False\n",
      " False  True False False False False False False  True False False  True\n",
      " False  True False False False False False False]\n"
     ]
    }
   ],
   "source": [
    "print(huber.coef_)#傾き\n",
    "print(huber.intercept_)#切片\n",
    "print(huber.scale_)\n",
    "print(huber.n_iter_)\n",
    "print(huber.outliers_)"
   ]
  },
  {
   "cell_type": "code",
   "execution_count": 115,
   "metadata": {},
   "outputs": [
    {
     "data": {
      "image/png": "[encoded data removed]",
      "text/plain": [
       "<Figure size 432x288 with 1 Axes>"
      ]
     },
     "metadata": {},
     "output_type": "display_data"
    }
   ],
   "source": [
    "tx = np.linspace(x.min(),x.max(),100).reshape(-1,1)    # 予測点\n",
    "# プロット\n",
    "plt.xlabel('weight'); plt.ylabel('height')\n",
    "plt.scatter(x,y,s=10,c='black')\n",
    "plt.plot(tx,linear.predict(tx),'r--',lw=3)   # 最小二乗法による予測点\n",
    "plt.plot(tx,huber.predict(tx),'b-', lw=3)   # Huber推定による予測点\n",
    "plt.show()"
   ]
  },
  {
   "cell_type": "markdown",
   "metadata": {},
   "source": [
    "## sklearnでRANSAC"
   ]
  },
  {
   "cell_type": "code",
   "execution_count": 116,
   "metadata": {},
   "outputs": [],
   "source": [
    "# RANSAC\n",
    "from sklearn.linear_model import RANSACRegressor"
   ]
  },
  {
   "cell_type": "code",
   "execution_count": 117,
   "metadata": {},
   "outputs": [],
   "source": [
    "# RANSACインスタンスの作成\n",
    "# base_estimator引数に回帰インスタンスを入れる（デフォルトはLinearRegressor())\n",
    "ransac = RANSACRegressor(base_estimator=LinearRegression()).fit(x,y)"
   ]
  },
  {
   "cell_type": "code",
   "execution_count": 118,
   "metadata": {},
   "outputs": [
    {
     "name": "stdout",
     "output_type": "stream",
     "text": [
      "LinearRegression()\n",
      "5\n",
      "[ True  True  True  True False  True False False  True  True  True False\n",
      "  True  True  True  True  True  True False  True False  True  True  True\n",
      "  True  True  True  True  True  True False  True  True  True  True  True\n",
      "  True  True  True False  True  True False  True  True  True  True  True\n",
      " False False  True  True  True  True False  True  True False  True  True\n",
      " False  True False  True  True  True  True  True False  True  True  True\n",
      "  True  True  True False  True False False False  True  True  True  True\n",
      "  True False False  True  True  True  True  True  True False False  True\n",
      "  True  True  True False  True False  True  True  True  True False  True\n",
      "  True  True  True  True False False False  True  True  True  True False\n",
      "  True  True  True  True False  True False  True  True  True  True  True\n",
      "  True False  True  True  True  True  True False  True  True  True False\n",
      "  True  True  True False  True  True  True  True False  True  True  True\n",
      "  True  True  True  True  True  True  True  True  True False  True  True\n",
      "  True False False  True  True  True  True  True  True  True  True  True\n",
      "  True  True  True  True  True  True  True  True False  True  True False\n",
      "  True False  True  True  True  True  True  True]\n",
      "3\n",
      "0\n",
      "0\n"
     ]
    }
   ],
   "source": [
    "print(ransac.estimator_)\n",
    "print(ransac.n_trials_)\n",
    "print(ransac.inlier_mask_)\n",
    "print(ransac.n_skips_no_inliers_)\n",
    "print(ransac.n_skips_invalid_data_)\n",
    "print(ransac.n_skips_invalid_model_)"
   ]
  },
  {
   "cell_type": "code",
   "execution_count": 124,
   "metadata": {},
   "outputs": [
    {
     "data": {
      "image/png": "[encoded data removed]",
      "text/plain": [
       "<Figure size 432x288 with 1 Axes>"
      ]
     },
     "metadata": {},
     "output_type": "display_data"
    }
   ],
   "source": [
    "tx = np.linspace(x.min(),x.max(),100).reshape(-1,1)    # 予測点\n",
    "# プロット\n",
    "plt.xlabel('weight'); plt.ylabel('height')\n",
    "plt.scatter(x,y,s=10,c='black')\n",
    "plt.plot(tx,linear.predict(tx),'r--',lw=3)   # 最小二乗法による予測点\n",
    "plt.plot(tx,ransac.predict(tx),'g-', lw=3)   # RANSACによる予測点\n",
    "plt.plot(tx,huber.predict(tx),'y--', lw=3, alpha=0.5) # Huber\n",
    "plt.show()"
   ]
  },
  {
   "cell_type": "code",
   "execution_count": null,
   "metadata": {},
   "outputs": [],
   "source": []
  },
  {
   "cell_type": "code",
   "execution_count": null,
   "metadata": {},
   "outputs": [],
   "source": []
  },
  {
   "cell_type": "markdown",
   "metadata": {},
   "source": [
    "## statsmodelsでHuber"
   ]
  },
  {
   "cell_type": "code",
   "execution_count": 125,
   "metadata": {},
   "outputs": [
    {
     "data": {
      "text/plain": [
       "array([1.60093116e+02, 1.50864502e-01])"
      ]
     },
     "execution_count": 125,
     "metadata": {},
     "output_type": "execute_result"
    }
   ],
   "source": [
    "xc = sm.add_constant(x)         # データ行列に定数項の列を追加\n",
    "lf = sm.OLS(y, xc).fit()        # 最小二乗法 \n",
    "lf.params                       # 回帰係数の推定値：(定数項，傾き)"
   ]
  },
  {
   "cell_type": "code",
   "execution_count": 126,
   "metadata": {},
   "outputs": [
    {
     "data": {
      "text/plain": [
       "array([136.83660744,   0.51689358])"
      ]
     },
     "execution_count": 126,
     "metadata": {},
     "output_type": "execute_result"
    }
   ],
   "source": [
    "# 外れ値を除いたデータに最小二乗法を適用\n",
    "lfr = sm.OLS(np.delete(y,11,0), np.delete(xc,11,0)).fit()\n",
    "lfr.params                       # 推定された回帰係数"
   ]
  },
  {
   "cell_type": "code",
   "execution_count": 127,
   "metadata": {},
   "outputs": [
    {
     "data": {
      "text/plain": [
       "array([137.81427721,   0.50076743])"
      ]
     },
     "execution_count": 127,
     "metadata": {},
     "output_type": "execute_result"
    }
   ],
   "source": [
    "rf = sm.RLM(y,xc).fit()          # Huber損失によるロバスト推定\n",
    "rf.params                        # 推定された回帰係数"
   ]
  },
  {
   "cell_type": "code",
   "execution_count": 128,
   "metadata": {},
   "outputs": [
    {
     "data": {
      "text/plain": [
       "5.7176346561692615"
      ]
     },
     "execution_count": 128,
     "metadata": {},
     "output_type": "execute_result"
    }
   ],
   "source": [
    "rf.scale                         # 推定されたスケール(標準偏差)"
   ]
  },
  {
   "cell_type": "code",
   "execution_count": 129,
   "metadata": {},
   "outputs": [
    {
     "data": {
      "text/html": [
       "<table class=\"simpletable\">\n",
       "<tr>\n",
       "        <td>Model:</td>               <td>RLM</td>       <td>Df Residuals:</td>   <td>198</td> \n",
       "</tr>\n",
       "<tr>\n",
       "  <td>Dependent Variable:</td>         <td>y</td>            <td>Norm:</td>     <td>HuberT</td>\n",
       "</tr>\n",
       "<tr>\n",
       "         <td>Date:</td>        <td>2020-11-26 00:37</td>  <td>Scale Est.:</td>    <td>mad</td> \n",
       "</tr>\n",
       "<tr>\n",
       "   <td>No. Observations:</td>         <td>200</td>        <td>Cov. Type:</td>     <td>H1</td>  \n",
       "</tr>\n",
       "<tr>\n",
       "       <td>Df Model:</td>              <td>1</td>           <td>Scale:</td>     <td>5.7176</td>\n",
       "</tr>\n",
       "</table>\n",
       "<table class=\"simpletable\">\n",
       "<tr>\n",
       "    <td></td>      <th>Coef.</th>  <th>Std.Err.</th>    <th>z</th>     <th>P>|z|</th>  <th>[0.025</th>   <th>0.975]</th> \n",
       "</tr>\n",
       "<tr>\n",
       "  <th>const</th> <td>137.8143</td>  <td>1.7453</td>  <td>78.9642</td> <td>0.0000</td> <td>134.3936</td> <td>141.2350</td>\n",
       "</tr>\n",
       "<tr>\n",
       "  <th>x1</th>     <td>0.5008</td>   <td>0.0259</td>  <td>19.3678</td> <td>0.0000</td>  <td>0.4501</td>   <td>0.5514</td> \n",
       "</tr>\n",
       "</table>"
      ],
      "text/plain": [
       "<class 'statsmodels.iolib.summary2.Summary'>\n",
       "\"\"\"\n",
       "              Results: Robust linear model\n",
       "=========================================================\n",
       "Model:              RLM              Df Residuals: 198   \n",
       "Dependent Variable: y                Norm:         HuberT\n",
       "Date:               2020-11-26 00:37 Scale Est.:   mad   \n",
       "No. Observations:   200              Cov. Type:    H1    \n",
       "Df Model:           1                Scale:        5.7176\n",
       "---------------------------------------------------------\n",
       "        Coef.   Std.Err.    z    P>|z|   [0.025   0.975] \n",
       "---------------------------------------------------------\n",
       "const  137.8143   1.7453 78.9642 0.0000 134.3936 141.2350\n",
       "x1       0.5008   0.0259 19.3678 0.0000   0.4501   0.5514\n",
       "=========================================================\n",
       "\n",
       "\"\"\""
      ]
     },
     "execution_count": 129,
     "metadata": {},
     "output_type": "execute_result"
    }
   ],
   "source": [
    "rf.summary2()                    # 結果の要約"
   ]
  },
  {
   "cell_type": "code",
   "execution_count": 130,
   "metadata": {},
   "outputs": [
    {
     "data": {
      "image/png": "[encoded data removed]",
      "text/plain": [
       "<Figure size 432x288 with 1 Axes>"
      ]
     },
     "metadata": {},
     "output_type": "display_data"
    }
   ],
   "source": [
    "tx = np.linspace(x.min(),x.max(),100).reshape(-1,1)    # 予測点\n",
    "txc = sm.add_constant(tx)\n",
    "# プロット\n",
    "plt.xlabel('weight'); plt.ylabel('height')\n",
    "plt.scatter(x,y,s=10,c='black')\n",
    "plt.plot(tx,lf.predict(txc),'r--',lw=3)   # 最小二乗法による予測点\n",
    "plt.plot(tx,rf.predict(txc),'b-', lw=3)   # ロバスト推定による予測点\n",
    "plt.show()"
   ]
  },
  {
   "cell_type": "markdown",
   "metadata": {},
   "source": [
    "## statsmodelsで他のロバスト回帰アルゴリズムを使う\n",
    "- https://www.statsmodels.org/stable/rlm.html\n",
    "- 色々選べる"
   ]
  },
  {
   "cell_type": "code",
   "execution_count": 131,
   "metadata": {},
   "outputs": [
    {
     "data": {
      "text/plain": [
       "array([136.24027068,   0.52543712])"
      ]
     },
     "execution_count": 131,
     "metadata": {},
     "output_type": "execute_result"
    }
   ],
   "source": [
    "# Hampel損失\n",
    "rfh = sm.RLM(y,xc,M=sm.robust.norms.Hampel()).fit()\n",
    "rfh.params"
   ]
  },
  {
   "cell_type": "code",
   "execution_count": 132,
   "metadata": {},
   "outputs": [
    {
     "data": {
      "text/plain": [
       "5.420989982024841"
      ]
     },
     "execution_count": 132,
     "metadata": {},
     "output_type": "execute_result"
    }
   ],
   "source": [
    "rfh.scale"
   ]
  },
  {
   "cell_type": "code",
   "execution_count": 133,
   "metadata": {},
   "outputs": [
    {
     "data": {
      "text/plain": [
       "array([135.63061588,   0.53426083])"
      ]
     },
     "execution_count": 133,
     "metadata": {},
     "output_type": "execute_result"
    }
   ],
   "source": [
    "# Turkeyのbiweight損失\n",
    "rfb = sm.RLM(y,xc,M=sm.robust.norms.TukeyBiweight()).fit() \n",
    "rfb.params"
   ]
  },
  {
   "cell_type": "code",
   "execution_count": 134,
   "metadata": {},
   "outputs": [
    {
     "data": {
      "text/plain": [
       "5.453397062997546"
      ]
     },
     "execution_count": 134,
     "metadata": {},
     "output_type": "execute_result"
    }
   ],
   "source": [
    "rfb.scale"
   ]
  },
  {
   "cell_type": "code",
   "execution_count": 136,
   "metadata": {},
   "outputs": [
    {
     "data": {
      "image/png": "[encoded data removed]",
      "text/plain": [
       "<Figure size 432x288 with 1 Axes>"
      ]
     },
     "metadata": {},
     "output_type": "display_data"
    }
   ],
   "source": [
    "tx = np.linspace(x.min(),x.max(),100).reshape(-1,1)    # 予測点\n",
    "txc = sm.add_constant(tx)\n",
    "# プロット\n",
    "plt.xlabel('weight'); plt.ylabel('height')\n",
    "plt.scatter(x,y,s=10,c='black')\n",
    "plt.plot(tx,rfh.predict(txc),'r--',lw=2)   # hampel\n",
    "plt.plot(tx,rfb.predict(txc),'b--', lw=2)   # turkeyBiweight\n",
    "plt.show()"
   ]
  },
  {
   "cell_type": "markdown",
   "metadata": {},
   "source": [
    "# リッジ回帰"
   ]
  },
  {
   "cell_type": "code",
   "execution_count": 138,
   "metadata": {},
   "outputs": [],
   "source": [
    "n = 100            # データ数\n",
    "degree = 8         # 多項式モデルの次数\n",
    "pardim = degree+1  # 回帰係数の次元"
   ]
  },
  {
   "cell_type": "code",
   "execution_count": 141,
   "metadata": {},
   "outputs": [
    {
     "data": {
      "text/plain": [
       "-0.0070626766856457125"
      ]
     },
     "execution_count": 141,
     "metadata": {},
     "output_type": "execute_result"
    }
   ],
   "source": [
    "np.random.normal(scale=0.5,size=n).mean()"
   ]
  },
  {
   "cell_type": "code",
   "execution_count": 142,
   "metadata": {},
   "outputs": [],
   "source": [
    "# データ生成\n",
    "x = np.random.uniform(-2,2,n)#-2から2のn個のランダムな数値\n",
    "#sin(-4π ~ 4pi)でxの絶対値に相関して値が減少。ノイズとして正規分布に従う乱数を足す。\n",
    "y = np.sin(2*np.pi*x)/x + np.random.normal(scale=0.5,size=n)"
   ]
  },
  {
   "cell_type": "code",
   "execution_count": 145,
   "metadata": {},
   "outputs": [
    {
     "data": {
      "text/plain": [
       "array([-1.1764111 ,  0.69619772,  1.18412761,  0.77440074, -0.59802351])"
      ]
     },
     "execution_count": 145,
     "metadata": {},
     "output_type": "execute_result"
    }
   ],
   "source": [
    "x[:5]"
   ]
  },
  {
   "cell_type": "code",
   "execution_count": 156,
   "metadata": {},
   "outputs": [
    {
     "data": {
      "text/plain": [
       "array([ 1,  8, 81])"
      ]
     },
     "execution_count": 156,
     "metadata": {},
     "output_type": "execute_result"
    }
   ],
   "source": [
    "# np.powerはべき乗計算\n",
    "np.power([1,2,3],[2,3,4])# [1**2, 2**3, 3**4]"
   ]
  },
  {
   "cell_type": "code",
   "execution_count": 158,
   "metadata": {},
   "outputs": [
    {
     "data": {
      "text/plain": [
       "array([[ 2,  3,  4],\n",
       "       [ 4,  6,  8],\n",
       "       [ 6,  9, 12]])"
      ]
     },
     "execution_count": 158,
     "metadata": {},
     "output_type": "execute_result"
    }
   ],
   "source": [
    "# np.outerは外積計算\n",
    "np.outer([1,2,3],[2,3,4])# [[1*2, 1*3, 1*4], [2*2, 2*3, 2*4], [3*2, 3*3, 3*4]]"
   ]
  },
  {
   "cell_type": "code",
   "execution_count": 164,
   "metadata": {},
   "outputs": [
    {
     "data": {
      "text/plain": [
       "array([[ 1,  1,  1],\n",
       "       [ 4,  8, 16],\n",
       "       [ 9, 27, 81]])"
      ]
     },
     "execution_count": 164,
     "metadata": {},
     "output_type": "execute_result"
    }
   ],
   "source": [
    "# 外積と同じ順番でpower計算をさせる用法（結構レア？）\n",
    "np.power.outer([1,2,3],[2,3,4])# [[1**2, 1**3, 1**4], [2**2, 2**3, 2**4], [3**2, 3**3, 3**4]]"
   ]
  },
  {
   "cell_type": "code",
   "execution_count": 146,
   "metadata": {},
   "outputs": [
    {
     "data": {
      "text/plain": [
       "array([0, 1, 2, 3, 4, 5, 6, 7, 8])"
      ]
     },
     "execution_count": 146,
     "metadata": {},
     "output_type": "execute_result"
    }
   ],
   "source": [
    "np.arange(pardim)"
   ]
  },
  {
   "cell_type": "code",
   "execution_count": 166,
   "metadata": {},
   "outputs": [],
   "source": [
    "mxc = np.power.outer(x,np.arange(pardim))            \n",
    "''' \n",
    "指定した多項式次元に対応するx**nを作成\n",
    "[[x[0]**0, x[0]**1, x[0]**2, ... , x[0]**n],\n",
    "    [x[1]**0, x[1]**1, x[1]**2, ... , x[1]**n],\n",
    "    ...\n",
    "    [x[m]**0, x[m]**1, x[m]**2, ... , x[m]**n]\n",
    "''';"
   ]
  },
  {
   "cell_type": "code",
   "execution_count": 167,
   "metadata": {},
   "outputs": [
    {
     "data": {
      "text/plain": [
       "array([[1., 0., 0.],\n",
       "       [0., 1., 0.],\n",
       "       [0., 0., 1.]])"
      ]
     },
     "execution_count": 167,
     "metadata": {},
     "output_type": "execute_result"
    }
   ],
   "source": [
    "# n行 x n列の単位行列(identity matrix)を作成\n",
    "np.identity(3)"
   ]
  },
  {
   "cell_type": "code",
   "execution_count": 169,
   "metadata": {},
   "outputs": [
    {
     "data": {
      "text/plain": [
       "(100, 9)"
      ]
     },
     "execution_count": 169,
     "metadata": {},
     "output_type": "execute_result"
    }
   ],
   "source": [
    "mxc.shape"
   ]
  },
  {
   "cell_type": "code",
   "execution_count": 171,
   "metadata": {},
   "outputs": [
    {
     "data": {
      "text/plain": [
       "array([[1., 0., 0., 0., 0., 0., 0., 0., 0.],\n",
       "       [0., 1., 0., 0., 0., 0., 0., 0., 0.],\n",
       "       [0., 0., 1., 0., 0., 0., 0., 0., 0.],\n",
       "       [0., 0., 0., 1., 0., 0., 0., 0., 0.],\n",
       "       [0., 0., 0., 0., 1., 0., 0., 0., 0.],\n",
       "       [0., 0., 0., 0., 0., 1., 0., 0., 0.],\n",
       "       [0., 0., 0., 0., 0., 0., 1., 0., 0.],\n",
       "       [0., 0., 0., 0., 0., 0., 0., 1., 0.],\n",
       "       [0., 0., 0., 0., 0., 0., 0., 0., 1.]])"
      ]
     },
     "execution_count": 171,
     "metadata": {},
     "output_type": "execute_result"
    }
   ],
   "source": [
    "IE = np.identity(mxc.shape[1])\n",
    "IE"
   ]
  },
  {
   "cell_type": "code",
   "execution_count": 172,
   "metadata": {},
   "outputs": [
    {
     "data": {
      "text/plain": [
       "array([[0., 0., 0., 0., 0., 0., 0., 0., 0.],\n",
       "       [0., 1., 0., 0., 0., 0., 0., 0., 0.],\n",
       "       [0., 0., 1., 0., 0., 0., 0., 0., 0.],\n",
       "       [0., 0., 0., 1., 0., 0., 0., 0., 0.],\n",
       "       [0., 0., 0., 0., 1., 0., 0., 0., 0.],\n",
       "       [0., 0., 0., 0., 0., 1., 0., 0., 0.],\n",
       "       [0., 0., 0., 0., 0., 0., 1., 0., 0.],\n",
       "       [0., 0., 0., 0., 0., 0., 0., 1., 0.],\n",
       "       [0., 0., 0., 0., 0., 0., 0., 0., 1.]])"
      ]
     },
     "execution_count": 172,
     "metadata": {},
     "output_type": "execute_result"
    }
   ],
   "source": [
    "IE[0,0] = 0          # 行列 I-E_11\n",
    "IE"
   ]
  },
  {
   "cell_type": "code",
   "execution_count": 17,
   "metadata": {},
   "outputs": [
    {
     "data": {
      "text/plain": [
       "array([ 2.71487994,  0.87873874, -5.43255932, -0.82233846,  2.82405799,\n",
       "        0.2377766 , -0.47497229, -0.02334212,  0.01085879])"
      ]
     },
     "execution_count": 17,
     "metadata": {},
     "output_type": "execute_result"
    }
   ],
   "source": [
    "# 回帰係数の推定値\n",
    "np.linalg.solve(np.dot(mxc.T,mxc) + 1*IE, np.dot(mxc.T,y))  "
   ]
  },
  {
   "cell_type": "code",
   "execution_count": 18,
   "metadata": {},
   "outputs": [
    {
     "data": {
      "image/png": "[encoded data removed]",
      "text/plain": [
       "<matplotlib.figure.Figure at 0x1c134c3940>"
      ]
     },
     "metadata": {},
     "output_type": "display_data"
    }
   ],
   "source": [
    "plt.scatter(x,y,c='black',s=10)              # データ点プロット\n",
    "tx = np.linspace(-2,2,100)                   # テスト点\n",
    "tpx = np.power.outer(tx,np.arange(pardim))   # テスト点でのデータ行列\n",
    "a  = np.array([0, 2**(-6), 1, 2**6])         # 正則化パラメータの候補\n",
    "ls = ['-','--','-.',':']                     # プロットのラインスタイル\n",
    "for i in np.arange(a.size):\n",
    "    theta = np.linalg.solve(np.dot(mxc.T,mxc)+a[i]*IE, np.dot(mxc.T,y))\n",
    "    py = np.dot(tpx,theta)                   # 予測値\n",
    "    # プロット  \n",
    "    plt.plot(tx,py,label=\"reg. par: \"+str(round(a[i],3)),ls=ls[i],lw=2) \n",
    "plt.legend()\n",
    "plt.show()"
   ]
  },
  {
   "cell_type": "code",
   "execution_count": 19,
   "metadata": {},
   "outputs": [
    {
     "data": {
      "text/plain": [
       "array([  4.81560657,  -0.75178298, -19.15713103,   0.98758461,\n",
       "        20.21508901,  -0.35160331,  -7.74366096,   0.03764018,\n",
       "         0.96904675])"
      ]
     },
     "execution_count": 19,
     "metadata": {},
     "output_type": "execute_result"
    }
   ],
   "source": [
    "## libraryで計算\n",
    "n = 100; degree = 8; pardim = degree+1       # データ生成の設定\n",
    "x = np.random.uniform(-2,2,n)\n",
    "y = np.sin(2*np.pi*x)/x + np.random.normal(scale=0.5,size=n)\n",
    "mx = np.power.outer(x,np.arange(pardim))   # データ行列\n",
    "# 正則化パラメータの設定：定数項は正則化項に含めない．\n",
    "alpha = 0.01; rp = np.r_[0,np.repeat(alpha/n,degree)] \n",
    "ri = sm.OLS(y,mx).fit_regularized(alpha=rp, L1_wt=0) # リッジ回帰\n",
    "ri.params                                # 推定された回帰係数"
   ]
  },
  {
   "cell_type": "code",
   "execution_count": 20,
   "metadata": {},
   "outputs": [
    {
     "data": {
      "text/plain": [
       "array([  4.81560657,  -0.75178298, -19.15713103,   0.98758461,\n",
       "        20.21508901,  -0.35160331,  -7.74366096,   0.03764018,\n",
       "         0.96904675])"
      ]
     },
     "execution_count": 20,
     "metadata": {},
     "output_type": "execute_result"
    }
   ],
   "source": [
    "np.linalg.solve(np.dot(mx.T,mx) + alpha*IE, np.dot(mx.T,y))"
   ]
  },
  {
   "cell_type": "code",
   "execution_count": 21,
   "metadata": {},
   "outputs": [
    {
     "data": {
      "image/png": "[encoded data removed]",
      "text/plain": [
       "<matplotlib.figure.Figure at 0x1c134cf6d8>"
      ]
     },
     "metadata": {},
     "output_type": "display_data"
    }
   ],
   "source": [
    "# plot\n",
    "tx = np.linspace(-2,2,100)                  # 予測点\n",
    "txc = np.power.outer(tx,np.arange(pardim))  \n",
    "py = ri.predict(txc)                        # 予測値\n",
    "plt.scatter(x,y,c='black',s=10)             # データ点プロット\n",
    "plt.plot(tx,py)\n",
    "plt.show()"
   ]
  },
  {
   "cell_type": "markdown",
   "metadata": {},
   "source": [
    "# カーネル回帰分析"
   ]
  },
  {
   "cell_type": "code",
   "execution_count": 22,
   "metadata": {
    "collapsed": true,
    "jupyter": {
     "outputs_hidden": true
    }
   },
   "outputs": [],
   "source": [
    "# カーネル回帰\n",
    "from sklearn.kernel_ridge import KernelRidge"
   ]
  },
  {
   "cell_type": "code",
   "execution_count": 23,
   "metadata": {},
   "outputs": [
    {
     "data": {
      "image/png": "[encoded data removed]",
      "text/plain": [
       "<matplotlib.figure.Figure at 0x1c13d32f98>"
      ]
     },
     "metadata": {},
     "output_type": "display_data"
    }
   ],
   "source": [
    "# 計算 & プロット\n",
    "from sklearn.kernel_ridge import KernelRidge # kernel_ridge モジュール読込み\n",
    "n = 100                               # データ生成\n",
    "x = np.random.uniform(-2,2,n); X = x.reshape(-1,1)\n",
    "y = np.sin(2*np.pi*x)/x + np.random.normal(scale=0.5,size=n)\n",
    "tx = np.linspace(-2,2,100)                    # テスト点\n",
    "g = np.array([0.1,1,10,100])                  # gammaの候補\n",
    "l = ['-','--','-.',':']                       # プロットのラインスタイル\n",
    "plt.title('Gauss kernel')                   \n",
    "plt.scatter(x,y,c='black',s=10)               # データ点プロット\n",
    "for i in np.arange(len(g)):               # カーネル回帰(ガウスカーネル)\n",
    "    kr = KernelRidge(alpha=1,kernel='rbf',gamma=g[i])\n",
    "    kr.fit(X, y)                              # データへのあてはめ\n",
    "    py = kr.predict(tx.reshape(-1,1))         # 予測値の計算\n",
    "    plt.plot(tx,py,label=\"gamma: \"+str(round(g[i],3)),ls=l[i],lw=2)\n",
    "\n",
    "plt.legend()\n",
    "plt.show()"
   ]
  }
 ],
 "metadata": {
  "kernelspec": {
   "display_name": "Python 3",
   "language": "python",
   "name": "python3"
  },
  "language_info": {
   "codemirror_mode": {
    "name": "ipython",
    "version": 3
   },
   "file_extension": ".py",
   "mimetype": "text/x-python",
   "name": "python",
   "nbconvert_exporter": "python",
   "pygments_lexer": "ipython3",
   "version": "3.6.11"
  }
 },
 "nbformat": 4,
 "nbformat_minor": 4
}
