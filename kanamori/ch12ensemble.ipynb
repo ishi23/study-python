{
 "cells": [
  {
   "cell_type": "code",
   "execution_count": 1,
   "metadata": {
    "collapsed": true
   },
   "outputs": [],
   "source": [
    "import numpy as np               \n",
    "import matplotlib.pyplot as plt  \n",
    "import pandas as pd\n",
    "from sklearn import tree, ensemble, datasets"
   ]
  },
  {
   "cell_type": "markdown",
   "metadata": {},
   "source": [
    "# 決定木"
   ]
  },
  {
   "cell_type": "code",
   "execution_count": 2,
   "metadata": {},
   "outputs": [
    {
     "data": {
      "text/plain": [
       "0.0"
      ]
     },
     "execution_count": 2,
     "metadata": {},
     "output_type": "execute_result"
    }
   ],
   "source": [
    "d = datasets.load_wine()              # wineデータ読込み\n",
    "dt = tree.DecisionTreeClassifier()    # 決定木\n",
    "dt.fit(d.data, d.target)              # フィッティング\n",
    "1-dt.score(d.data,d.target)           # トレーニング誤差"
   ]
  },
  {
   "cell_type": "code",
   "execution_count": 3,
   "metadata": {},
   "outputs": [
    {
     "data": {
      "text/plain": [
       "0.022471910112359605"
      ]
     },
     "execution_count": 3,
     "metadata": {},
     "output_type": "execute_result"
    }
   ],
   "source": [
    "dt.set_params(max_depth=3)            # 木の深さの最大値を設定\n",
    "dt.fit(d.data, d.target)              # フィッティング\n",
    "1-dt.score(d.data,d.target)           # トレーニング誤差"
   ]
  },
  {
   "cell_type": "code",
   "execution_count": 4,
   "metadata": {
    "collapsed": true
   },
   "outputs": [],
   "source": [
    "import graphviz            # graphviz.Source を使う\n",
    "# graphvizで決定木を描画\n",
    "graph = graphviz.Source(tree.export_graphviz(dt,out_file=None))\n",
    "# graph.render(\"DTplot\")     # 図をファイルに出力"
   ]
  },
  {
   "cell_type": "markdown",
   "metadata": {},
   "source": [
    "# バギング"
   ]
  },
  {
   "cell_type": "code",
   "execution_count": 5,
   "metadata": {},
   "outputs": [
    {
     "data": {
      "text/plain": [
       "array([0, 4, 3, 0, 0])"
      ]
     },
     "execution_count": 5,
     "metadata": {},
     "output_type": "execute_result"
    }
   ],
   "source": [
    "# 1,2,3,4,5 の復元抽出(リサンプリング)\n",
    "np.random.choice(5,5)"
   ]
  },
  {
   "cell_type": "code",
   "execution_count": 6,
   "metadata": {},
   "outputs": [
    {
     "data": {
      "text/plain": [
       "array([0, 4, 3, 2, 1])"
      ]
     },
     "execution_count": 6,
     "metadata": {},
     "output_type": "execute_result"
    }
   ],
   "source": [
    "# 0，1,2,3,4 の非復元抽出\n",
    "np.random.choice(5,5,replace=False)"
   ]
  },
  {
   "cell_type": "code",
   "execution_count": 7,
   "metadata": {},
   "outputs": [
    {
     "data": {
      "text/plain": [
       "0.07999999999999996"
      ]
     },
     "execution_count": 7,
     "metadata": {},
     "output_type": "execute_result"
    }
   ],
   "source": [
    "d = datasets.load_iris()                 # データ読込み\n",
    "i = np.random.choice(d.data.shape[0],100,replace=False)\n",
    "ti = np.delete(np.arange(d.data.shape[0]),i)\n",
    "x,    y = d.data[i,:],   d.target[i]        # トレーニングデータ\n",
    "tx, ty = d.data[ti,:], d.target[ti]      # テストデータ\n",
    "ba = ensemble.BaggingClassifier(n_estimators=100)\n",
    "ba.fit(x,y)                         # バギング(B=100)\n",
    "1-ba.score(tx,ty)                   # テスト誤差"
   ]
  },
  {
   "cell_type": "code",
   "execution_count": 8,
   "metadata": {},
   "outputs": [
    {
     "data": {
      "text/plain": [
       "0.07999999999999996"
      ]
     },
     "execution_count": 8,
     "metadata": {},
     "output_type": "execute_result"
    }
   ],
   "source": [
    "dt = tree.DecisionTreeClassifier()  # 単独の決定木を学習\n",
    "dt.fit(x,y)\n",
    "1-dt.score(tx,ty)                   # テスト誤差"
   ]
  },
  {
   "cell_type": "markdown",
   "metadata": {},
   "source": [
    "# ランダム・フォレスト"
   ]
  },
  {
   "cell_type": "code",
   "execution_count": 9,
   "metadata": {},
   "outputs": [
    {
     "data": {
      "text/plain": [
       "0.05405405405405406"
      ]
     },
     "execution_count": 9,
     "metadata": {},
     "output_type": "execute_result"
    }
   ],
   "source": [
    "d  = pd.read_csv('data/stagec.csv').values   # データ読込み\n",
    "xa, ya = np.array(d[:,:6]).astype('float'), d[:,7]\n",
    "i = ~np.isnan(xa).any(axis=1); xa, ya = xa[i,:], ya[i] # nan 除去\n",
    "x, y    = xa[:100,:], ya[:100]          # トレーニングデータ\n",
    "tx, ty = xa[100:,:], ya[100:]          # テストデータ\n",
    "# ランダムフォレスト：木の数 10\n",
    "rf = ensemble.RandomForestClassifier(n_estimators=10)\n",
    "rf.fit(x,y)\n",
    "1-rf.score(tx,ty)    # テスト誤差"
   ]
  },
  {
   "cell_type": "code",
   "execution_count": 10,
   "metadata": {},
   "outputs": [
    {
     "data": {
      "text/plain": [
       "0.027027027027026973"
      ]
     },
     "execution_count": 10,
     "metadata": {},
     "output_type": "execute_result"
    }
   ],
   "source": [
    "# ランダムフォレスト：木の数 1000\n",
    "rf.set_params(n_estimators=1000)\n",
    "rf.fit(x,y)\n",
    "1-rf.score(tx,ty)    # テスト誤差"
   ]
  },
  {
   "cell_type": "code",
   "execution_count": 11,
   "metadata": {},
   "outputs": [
    {
     "data": {
      "text/plain": [
       "0.05405405405405406"
      ]
     },
     "execution_count": 11,
     "metadata": {},
     "output_type": "execute_result"
    }
   ],
   "source": [
    "dt = tree.DecisionTreeClassifier()      #  決定木\n",
    "dt.fit(x,y)\n",
    "1-dt.score(tx,ty)    # テスト誤差"
   ]
  },
  {
   "cell_type": "code",
   "execution_count": 12,
   "metadata": {},
   "outputs": [
    {
     "data": {
      "text/plain": [
       "0.027027027027026973"
      ]
     },
     "execution_count": 12,
     "metadata": {},
     "output_type": "execute_result"
    }
   ],
   "source": [
    "ba = ensemble.BaggingClassifier(n_estimators=10)  # バギング(B=10)\n",
    "ba.fit(x,y)\n",
    "1-ba.score(tx,ty)    # テスト誤差"
   ]
  },
  {
   "cell_type": "markdown",
   "metadata": {},
   "source": [
    "# ブースティング"
   ]
  },
  {
   "cell_type": "code",
   "execution_count": 13,
   "metadata": {
    "collapsed": true
   },
   "outputs": [],
   "source": [
    "n = 4000                               # トレーニングデータ数\n",
    "d = pd.read_csv('data/soldat.csv').values;  # データ読込み\n",
    "d=np.delete(d,70,1)                    # nanを除去\n",
    "i  = np.random.choice(len(d),n,replace=False)  \n",
    "ti = np.delete(np.arange(len(d)), i)           \n",
    "x, y  = d[i,:71], d[i,71]             # トレーニングデータ\n",
    "tx, ty = d[ti,:71], d[ti,71]        # テストデータ\n",
    "T = 1000                                    # ブースティング：ラウンド数\n",
    "bl = tree.DecisionTreeClassifier(max_depth=1)               # 決定株\n",
    "# 決定株でアダブーストを実行\n",
    "ab = ensemble.AdaBoostClassifier(base_estimator=bl, n_estimators=T)\n",
    "ab.fit(x,y)                                # フィッティング\n",
    "# 各ラウンドの誤差\n",
    "ada_tr_err = np.zeros((T,))            \n",
    "for i, score in enumerate(ab.staged_score(x,y)): \n",
    "    ada_tr_err[i] = 1-score                     # トレーニング誤差\n",
    "ada_te_err = np.zeros((T,))            \n",
    "for i, score in enumerate(ab.staged_score(tx,ty)): \n",
    "    ada_te_err[i] = 1-score                     # テスト誤差"
   ]
  },
  {
   "cell_type": "code",
   "execution_count": 14,
   "metadata": {},
   "outputs": [
    {
     "data": {
      "image/png": "[encoded data removed]",
      "text/plain": [
       "<matplotlib.figure.Figure at 0x1a0fd0bc18>"
      ]
     },
     "metadata": {},
     "output_type": "display_data"
    }
   ],
   "source": [
    "plt.xlabel('round: t')\n",
    "plt.ylabel('error')\n",
    "plt.plot(ada_tr_err[::10],label='training error',linestyle='dashed',lw=3)\n",
    "plt.plot(ada_te_err[::10],label='test error',    linestyle='solid', lw=3)\n",
    "plt.legend()\n",
    "plt.show()"
   ]
  },
  {
   "cell_type": "code",
   "execution_count": 15,
   "metadata": {},
   "outputs": [
    {
     "name": "stderr",
     "output_type": "stream",
     "text": [
      "/Users/kanamori/.pyenv/versions/anaconda3-5.0.1/lib/python3.6/site-packages/sklearn/preprocessing/label.py:151: DeprecationWarning: The truth value of an empty array is ambiguous. Returning False, but in future this will result in an error. Use `array.size > 0` to check that an array is not empty.\n",
      "  if diff:\n"
     ]
    },
    {
     "data": {
      "text/plain": [
       "0.243408951563458"
      ]
     },
     "execution_count": 15,
     "metadata": {},
     "output_type": "execute_result"
    }
   ],
   "source": [
    "import xgboost as xgb          # xgboostを使う\n",
    "# データ読込み\n",
    "n = 4000\n",
    "d = pd.read_csv('data/soldat.csv').values; d = np.delete(d,70,1)\n",
    "i  = np.random.choice(len(d),n,replace=False)\n",
    "ti = np.delete(np.arange(len(d)), i)\n",
    "x, y = d[i,:71], d[i,71]\n",
    "tx, ty = d[ti,:71], d[ti,71]\n",
    "T = 1000                       # ラウンド数 1000\n",
    "xg = xgb.XGBClassifier(n_estimators=T, max_depth=1, objective='binary:logistic')\n",
    "\n",
    "xg.fit(x,y)                    # フィッティング\n",
    "1-xg.score(tx,ty)              # テスト誤差"
   ]
  },
  {
   "cell_type": "code",
   "execution_count": 16,
   "metadata": {},
   "outputs": [
    {
     "name": "stdout",
     "output_type": "stream",
     "text": [
      "[0]\tvalidation_0-logloss:0.675511\n",
      "Will train until validation_0-logloss hasn't improved in 10 rounds.\n",
      "[1]\tvalidation_0-logloss:0.660749\n",
      "[2]\tvalidation_0-logloss:0.64889\n",
      "[3]\tvalidation_0-logloss:0.636498\n",
      "[4]\tvalidation_0-logloss:0.627903\n",
      "[5]\tvalidation_0-logloss:0.618404\n",
      "[6]\tvalidation_0-logloss:0.61176\n",
      "[7]\tvalidation_0-logloss:0.606215\n",
      "[8]\tvalidation_0-logloss:0.599145\n",
      "[9]\tvalidation_0-logloss:0.593414\n",
      "[10]\tvalidation_0-logloss:0.589219\n",
      "[11]\tvalidation_0-logloss:0.584039\n",
      "[12]\tvalidation_0-logloss:0.580559\n",
      "[13]\tvalidation_0-logloss:0.576654\n",
      "[14]\tvalidation_0-logloss:0.574081\n",
      "[15]\tvalidation_0-logloss:0.570831\n",
      "[16]\tvalidation_0-logloss:0.568734\n",
      "[17]\tvalidation_0-logloss:0.565752\n",
      "[18]\tvalidation_0-logloss:0.562623\n",
      "[19]\tvalidation_0-logloss:0.559548\n",
      "[20]\tvalidation_0-logloss:0.558045\n",
      "[21]\tvalidation_0-logloss:0.556919\n",
      "[22]\tvalidation_0-logloss:0.554768\n",
      "[23]\tvalidation_0-logloss:0.552516\n",
      "[24]\tvalidation_0-logloss:0.55143\n",
      "[25]\tvalidation_0-logloss:0.549653\n",
      "[26]\tvalidation_0-logloss:0.548586\n",
      "[27]\tvalidation_0-logloss:0.546525\n",
      "[28]\tvalidation_0-logloss:0.546131\n",
      "[29]\tvalidation_0-logloss:0.54536\n",
      "[30]\tvalidation_0-logloss:0.543882\n",
      "[31]\tvalidation_0-logloss:0.542544\n",
      "[32]\tvalidation_0-logloss:0.542251\n",
      "[33]\tvalidation_0-logloss:0.541496\n",
      "[34]\tvalidation_0-logloss:0.539943\n",
      "[35]\tvalidation_0-logloss:0.53887\n",
      "[36]\tvalidation_0-logloss:0.538249\n",
      "[37]\tvalidation_0-logloss:0.537381\n",
      "[38]\tvalidation_0-logloss:0.536322\n",
      "[39]\tvalidation_0-logloss:0.536361\n",
      "[40]\tvalidation_0-logloss:0.535448\n",
      "[41]\tvalidation_0-logloss:0.534375\n",
      "[42]\tvalidation_0-logloss:0.533318\n",
      "[43]\tvalidation_0-logloss:0.532754\n",
      "[44]\tvalidation_0-logloss:0.531656\n",
      "[45]\tvalidation_0-logloss:0.530765\n",
      "[46]\tvalidation_0-logloss:0.530114\n",
      "[47]\tvalidation_0-logloss:0.529269\n",
      "[48]\tvalidation_0-logloss:0.528745\n",
      "[49]\tvalidation_0-logloss:0.527531\n",
      "[50]\tvalidation_0-logloss:0.527264\n",
      "[51]\tvalidation_0-logloss:0.526366\n",
      "[52]\tvalidation_0-logloss:0.525462\n",
      "[53]\tvalidation_0-logloss:0.525617\n",
      "[54]\tvalidation_0-logloss:0.524734\n",
      "[55]\tvalidation_0-logloss:0.523914\n",
      "[56]\tvalidation_0-logloss:0.523463\n",
      "[57]\tvalidation_0-logloss:0.523073\n",
      "[58]\tvalidation_0-logloss:0.522354\n",
      "[59]\tvalidation_0-logloss:0.521769\n",
      "[60]\tvalidation_0-logloss:0.521291\n",
      "[61]\tvalidation_0-logloss:0.520475\n",
      "[62]\tvalidation_0-logloss:0.519781\n",
      "[63]\tvalidation_0-logloss:0.519003\n",
      "[64]\tvalidation_0-logloss:0.51861\n",
      "[65]\tvalidation_0-logloss:0.517988\n",
      "[66]\tvalidation_0-logloss:0.518097\n",
      "[67]\tvalidation_0-logloss:0.517407\n",
      "[68]\tvalidation_0-logloss:0.517108\n",
      "[69]\tvalidation_0-logloss:0.51653\n",
      "[70]\tvalidation_0-logloss:0.515901\n",
      "[71]\tvalidation_0-logloss:0.515169\n",
      "[72]\tvalidation_0-logloss:0.514818\n",
      "[73]\tvalidation_0-logloss:0.514045\n",
      "[74]\tvalidation_0-logloss:0.513534\n",
      "[75]\tvalidation_0-logloss:0.512949\n",
      "[76]\tvalidation_0-logloss:0.512682\n",
      "[77]\tvalidation_0-logloss:0.512289\n",
      "[78]\tvalidation_0-logloss:0.511943\n",
      "[79]\tvalidation_0-logloss:0.511438\n",
      "[80]\tvalidation_0-logloss:0.511088\n",
      "[81]\tvalidation_0-logloss:0.510917\n",
      "[82]\tvalidation_0-logloss:0.510671\n",
      "[83]\tvalidation_0-logloss:0.510087\n",
      "[84]\tvalidation_0-logloss:0.509505\n",
      "[85]\tvalidation_0-logloss:0.509051\n",
      "[86]\tvalidation_0-logloss:0.508773\n",
      "[87]\tvalidation_0-logloss:0.508303\n",
      "[88]\tvalidation_0-logloss:0.508008\n",
      "[89]\tvalidation_0-logloss:0.507511\n",
      "[90]\tvalidation_0-logloss:0.507404\n",
      "[91]\tvalidation_0-logloss:0.507091\n",
      "[92]\tvalidation_0-logloss:0.506466\n",
      "[93]\tvalidation_0-logloss:0.505942\n",
      "[94]\tvalidation_0-logloss:0.506216\n",
      "[95]\tvalidation_0-logloss:0.505936\n",
      "[96]\tvalidation_0-logloss:0.505365\n",
      "[97]\tvalidation_0-logloss:0.505044\n",
      "[98]\tvalidation_0-logloss:0.505077\n",
      "[99]\tvalidation_0-logloss:0.504614\n",
      "[100]\tvalidation_0-logloss:0.50446\n",
      "[101]\tvalidation_0-logloss:0.504114\n",
      "[102]\tvalidation_0-logloss:0.50375\n",
      "[103]\tvalidation_0-logloss:0.503522\n",
      "[104]\tvalidation_0-logloss:0.503835\n",
      "[105]\tvalidation_0-logloss:0.503409\n",
      "[106]\tvalidation_0-logloss:0.503172\n",
      "[107]\tvalidation_0-logloss:0.503078\n",
      "[108]\tvalidation_0-logloss:0.502954\n",
      "[109]\tvalidation_0-logloss:0.502744\n",
      "[110]\tvalidation_0-logloss:0.50285\n",
      "[111]\tvalidation_0-logloss:0.50241\n",
      "[112]\tvalidation_0-logloss:0.501965\n",
      "[113]\tvalidation_0-logloss:0.502249\n",
      "[114]\tvalidation_0-logloss:0.502017\n",
      "[115]\tvalidation_0-logloss:0.501709\n",
      "[116]\tvalidation_0-logloss:0.501517\n",
      "[117]\tvalidation_0-logloss:0.501293\n",
      "[118]\tvalidation_0-logloss:0.501075\n",
      "[119]\tvalidation_0-logloss:0.500757\n",
      "[120]\tvalidation_0-logloss:0.500532\n",
      "[121]\tvalidation_0-logloss:0.500181\n",
      "[122]\tvalidation_0-logloss:0.500054\n",
      "[123]\tvalidation_0-logloss:0.499541\n",
      "[124]\tvalidation_0-logloss:0.499521\n",
      "[125]\tvalidation_0-logloss:0.499212\n",
      "[126]\tvalidation_0-logloss:0.499164\n",
      "[127]\tvalidation_0-logloss:0.498871\n",
      "[128]\tvalidation_0-logloss:0.498775\n",
      "[129]\tvalidation_0-logloss:0.498387\n",
      "[130]\tvalidation_0-logloss:0.498044\n",
      "[131]\tvalidation_0-logloss:0.498229\n",
      "[132]\tvalidation_0-logloss:0.497929\n",
      "[133]\tvalidation_0-logloss:0.497536\n",
      "[134]\tvalidation_0-logloss:0.497658\n",
      "[135]\tvalidation_0-logloss:0.497495\n",
      "[136]\tvalidation_0-logloss:0.49778\n",
      "[137]\tvalidation_0-logloss:0.497523\n",
      "[138]\tvalidation_0-logloss:0.497412\n",
      "[139]\tvalidation_0-logloss:0.497041\n",
      "[140]\tvalidation_0-logloss:0.496576\n",
      "[141]\tvalidation_0-logloss:0.496254\n",
      "[142]\tvalidation_0-logloss:0.496158\n",
      "[143]\tvalidation_0-logloss:0.495994\n",
      "[144]\tvalidation_0-logloss:0.495827\n",
      "[145]\tvalidation_0-logloss:0.495641\n",
      "[146]\tvalidation_0-logloss:0.495497\n",
      "[147]\tvalidation_0-logloss:0.495433\n",
      "[148]\tvalidation_0-logloss:0.495121\n",
      "[149]\tvalidation_0-logloss:0.495139\n",
      "[150]\tvalidation_0-logloss:0.494819\n",
      "[151]\tvalidation_0-logloss:0.494516\n",
      "[152]\tvalidation_0-logloss:0.494409\n",
      "[153]\tvalidation_0-logloss:0.494078\n",
      "[154]\tvalidation_0-logloss:0.493817\n",
      "[155]\tvalidation_0-logloss:0.493801\n",
      "[156]\tvalidation_0-logloss:0.493652\n",
      "[157]\tvalidation_0-logloss:0.493953\n",
      "[158]\tvalidation_0-logloss:0.493672\n",
      "[159]\tvalidation_0-logloss:0.493514\n",
      "[160]\tvalidation_0-logloss:0.493189\n",
      "[161]\tvalidation_0-logloss:0.493135\n",
      "[162]\tvalidation_0-logloss:0.492954\n",
      "[163]\tvalidation_0-logloss:0.493098\n",
      "[164]\tvalidation_0-logloss:0.493125\n",
      "[165]\tvalidation_0-logloss:0.49284\n",
      "[166]\tvalidation_0-logloss:0.492781\n",
      "[167]\tvalidation_0-logloss:0.49251\n",
      "[168]\tvalidation_0-logloss:0.492291\n",
      "[169]\tvalidation_0-logloss:0.492183\n",
      "[170]\tvalidation_0-logloss:0.492086\n",
      "[171]\tvalidation_0-logloss:0.492093\n",
      "[172]\tvalidation_0-logloss:0.491819\n",
      "[173]\tvalidation_0-logloss:0.491753\n",
      "[174]\tvalidation_0-logloss:0.491513\n",
      "[175]\tvalidation_0-logloss:0.491413\n",
      "[176]\tvalidation_0-logloss:0.491286\n",
      "[177]\tvalidation_0-logloss:0.491319\n",
      "[178]\tvalidation_0-logloss:0.490967\n",
      "[179]\tvalidation_0-logloss:0.491142\n",
      "[180]\tvalidation_0-logloss:0.490881\n",
      "[181]\tvalidation_0-logloss:0.490017\n",
      "[182]\tvalidation_0-logloss:0.489727\n",
      "[183]\tvalidation_0-logloss:0.489503\n",
      "[184]\tvalidation_0-logloss:0.489208\n",
      "[185]\tvalidation_0-logloss:0.488882\n",
      "[186]\tvalidation_0-logloss:0.489119\n",
      "[187]\tvalidation_0-logloss:0.488866\n",
      "[188]\tvalidation_0-logloss:0.488791\n",
      "[189]\tvalidation_0-logloss:0.488998\n",
      "[190]\tvalidation_0-logloss:0.489254\n",
      "[191]\tvalidation_0-logloss:0.489065\n",
      "[192]\tvalidation_0-logloss:0.489025\n",
      "[193]\tvalidation_0-logloss:0.488886\n",
      "[194]\tvalidation_0-logloss:0.489031\n",
      "[195]\tvalidation_0-logloss:0.489068\n",
      "[196]\tvalidation_0-logloss:0.489092\n",
      "[197]\tvalidation_0-logloss:0.489031\n",
      "[198]\tvalidation_0-logloss:0.488786\n",
      "[199]\tvalidation_0-logloss:0.488707\n",
      "[200]\tvalidation_0-logloss:0.488614\n",
      "[201]\tvalidation_0-logloss:0.488373\n",
      "[202]\tvalidation_0-logloss:0.488119\n",
      "[203]\tvalidation_0-logloss:0.487332\n",
      "[204]\tvalidation_0-logloss:0.487292\n",
      "[205]\tvalidation_0-logloss:0.487062\n",
      "[206]\tvalidation_0-logloss:0.486778\n",
      "[207]\tvalidation_0-logloss:0.486669\n",
      "[208]\tvalidation_0-logloss:0.486625\n",
      "[209]\tvalidation_0-logloss:0.486855\n",
      "[210]\tvalidation_0-logloss:0.486725\n",
      "[211]\tvalidation_0-logloss:0.486748\n",
      "[212]\tvalidation_0-logloss:0.486657\n",
      "[213]\tvalidation_0-logloss:0.486461\n",
      "[214]\tvalidation_0-logloss:0.486321\n",
      "[215]\tvalidation_0-logloss:0.486164\n",
      "[216]\tvalidation_0-logloss:0.486092\n",
      "[217]\tvalidation_0-logloss:0.486146\n",
      "[218]\tvalidation_0-logloss:0.486117\n",
      "[219]\tvalidation_0-logloss:0.486026\n",
      "[220]\tvalidation_0-logloss:0.486251\n",
      "[221]\tvalidation_0-logloss:0.486092\n",
      "[222]\tvalidation_0-logloss:0.485988\n",
      "[223]\tvalidation_0-logloss:0.486118\n",
      "[224]\tvalidation_0-logloss:0.486045\n",
      "[225]\tvalidation_0-logloss:0.48532\n",
      "[226]\tvalidation_0-logloss:0.484985\n",
      "[227]\tvalidation_0-logloss:0.484862\n",
      "[228]\tvalidation_0-logloss:0.484906\n",
      "[229]\tvalidation_0-logloss:0.484545\n"
     ]
    },
    {
     "name": "stdout",
     "output_type": "stream",
     "text": [
      "[230]\tvalidation_0-logloss:0.484447\n",
      "[231]\tvalidation_0-logloss:0.484223\n",
      "[232]\tvalidation_0-logloss:0.484166\n",
      "[233]\tvalidation_0-logloss:0.48413\n",
      "[234]\tvalidation_0-logloss:0.484045\n",
      "[235]\tvalidation_0-logloss:0.484014\n",
      "[236]\tvalidation_0-logloss:0.483811\n",
      "[237]\tvalidation_0-logloss:0.483572\n",
      "[238]\tvalidation_0-logloss:0.483579\n",
      "[239]\tvalidation_0-logloss:0.483616\n",
      "[240]\tvalidation_0-logloss:0.483452\n",
      "[241]\tvalidation_0-logloss:0.483451\n",
      "[242]\tvalidation_0-logloss:0.483397\n",
      "[243]\tvalidation_0-logloss:0.483286\n",
      "[244]\tvalidation_0-logloss:0.483335\n",
      "[245]\tvalidation_0-logloss:0.4834\n",
      "[246]\tvalidation_0-logloss:0.483215\n",
      "[247]\tvalidation_0-logloss:0.483004\n",
      "[248]\tvalidation_0-logloss:0.482881\n",
      "[249]\tvalidation_0-logloss:0.482706\n",
      "[250]\tvalidation_0-logloss:0.482671\n",
      "[251]\tvalidation_0-logloss:0.482452\n",
      "[252]\tvalidation_0-logloss:0.482727\n",
      "[253]\tvalidation_0-logloss:0.482519\n",
      "[254]\tvalidation_0-logloss:0.482311\n",
      "[255]\tvalidation_0-logloss:0.482117\n",
      "[256]\tvalidation_0-logloss:0.48147\n",
      "[257]\tvalidation_0-logloss:0.481686\n",
      "[258]\tvalidation_0-logloss:0.481483\n",
      "[259]\tvalidation_0-logloss:0.481267\n",
      "[260]\tvalidation_0-logloss:0.481475\n",
      "[261]\tvalidation_0-logloss:0.481248\n",
      "[262]\tvalidation_0-logloss:0.481266\n",
      "[263]\tvalidation_0-logloss:0.481231\n",
      "[264]\tvalidation_0-logloss:0.481022\n",
      "[265]\tvalidation_0-logloss:0.48109\n",
      "[266]\tvalidation_0-logloss:0.481041\n",
      "[267]\tvalidation_0-logloss:0.480818\n",
      "[268]\tvalidation_0-logloss:0.480971\n",
      "[269]\tvalidation_0-logloss:0.48083\n",
      "[270]\tvalidation_0-logloss:0.480779\n",
      "[271]\tvalidation_0-logloss:0.48071\n",
      "[272]\tvalidation_0-logloss:0.480689\n",
      "[273]\tvalidation_0-logloss:0.480683\n",
      "[274]\tvalidation_0-logloss:0.480822\n",
      "[275]\tvalidation_0-logloss:0.480788\n",
      "[276]\tvalidation_0-logloss:0.480251\n",
      "[277]\tvalidation_0-logloss:0.480303\n",
      "[278]\tvalidation_0-logloss:0.480309\n",
      "[279]\tvalidation_0-logloss:0.480215\n",
      "[280]\tvalidation_0-logloss:0.480166\n",
      "[281]\tvalidation_0-logloss:0.480166\n",
      "[282]\tvalidation_0-logloss:0.480089\n",
      "[283]\tvalidation_0-logloss:0.480122\n",
      "[284]\tvalidation_0-logloss:0.480079\n",
      "[285]\tvalidation_0-logloss:0.479708\n",
      "[286]\tvalidation_0-logloss:0.479423\n",
      "[287]\tvalidation_0-logloss:0.47938\n",
      "[288]\tvalidation_0-logloss:0.479316\n",
      "[289]\tvalidation_0-logloss:0.479292\n",
      "[290]\tvalidation_0-logloss:0.479336\n",
      "[291]\tvalidation_0-logloss:0.479358\n",
      "[292]\tvalidation_0-logloss:0.479269\n",
      "[293]\tvalidation_0-logloss:0.479093\n",
      "[294]\tvalidation_0-logloss:0.478956\n",
      "[295]\tvalidation_0-logloss:0.478795\n",
      "[296]\tvalidation_0-logloss:0.478927\n",
      "[297]\tvalidation_0-logloss:0.478343\n",
      "[298]\tvalidation_0-logloss:0.478292\n",
      "[299]\tvalidation_0-logloss:0.47844\n",
      "[300]\tvalidation_0-logloss:0.47843\n",
      "[301]\tvalidation_0-logloss:0.478368\n",
      "[302]\tvalidation_0-logloss:0.478328\n",
      "[303]\tvalidation_0-logloss:0.478188\n",
      "[304]\tvalidation_0-logloss:0.47826\n",
      "[305]\tvalidation_0-logloss:0.478237\n",
      "[306]\tvalidation_0-logloss:0.478358\n",
      "[307]\tvalidation_0-logloss:0.478258\n",
      "[308]\tvalidation_0-logloss:0.478049\n",
      "[309]\tvalidation_0-logloss:0.477993\n",
      "[310]\tvalidation_0-logloss:0.477995\n",
      "[311]\tvalidation_0-logloss:0.47806\n",
      "[312]\tvalidation_0-logloss:0.477924\n",
      "[313]\tvalidation_0-logloss:0.477807\n",
      "[314]\tvalidation_0-logloss:0.477622\n",
      "[315]\tvalidation_0-logloss:0.477424\n",
      "[316]\tvalidation_0-logloss:0.477579\n",
      "[317]\tvalidation_0-logloss:0.477398\n",
      "[318]\tvalidation_0-logloss:0.47745\n",
      "[319]\tvalidation_0-logloss:0.476909\n",
      "[320]\tvalidation_0-logloss:0.476945\n",
      "[321]\tvalidation_0-logloss:0.47715\n",
      "[322]\tvalidation_0-logloss:0.476945\n",
      "[323]\tvalidation_0-logloss:0.476911\n",
      "[324]\tvalidation_0-logloss:0.476913\n",
      "[325]\tvalidation_0-logloss:0.476858\n",
      "[326]\tvalidation_0-logloss:0.476583\n",
      "[327]\tvalidation_0-logloss:0.476752\n",
      "[328]\tvalidation_0-logloss:0.476772\n",
      "[329]\tvalidation_0-logloss:0.476848\n",
      "[330]\tvalidation_0-logloss:0.476691\n",
      "[331]\tvalidation_0-logloss:0.476696\n",
      "[332]\tvalidation_0-logloss:0.476915\n",
      "[333]\tvalidation_0-logloss:0.476747\n",
      "[334]\tvalidation_0-logloss:0.476438\n",
      "[335]\tvalidation_0-logloss:0.476419\n",
      "[336]\tvalidation_0-logloss:0.47635\n",
      "[337]\tvalidation_0-logloss:0.476045\n",
      "[338]\tvalidation_0-logloss:0.475808\n",
      "[339]\tvalidation_0-logloss:0.475647\n",
      "[340]\tvalidation_0-logloss:0.475572\n",
      "[341]\tvalidation_0-logloss:0.4756\n",
      "[342]\tvalidation_0-logloss:0.475745\n",
      "[343]\tvalidation_0-logloss:0.475787\n",
      "[344]\tvalidation_0-logloss:0.475768\n",
      "[345]\tvalidation_0-logloss:0.475761\n",
      "[346]\tvalidation_0-logloss:0.475916\n",
      "[347]\tvalidation_0-logloss:0.475796\n",
      "[348]\tvalidation_0-logloss:0.475738\n",
      "[349]\tvalidation_0-logloss:0.475832\n",
      "[350]\tvalidation_0-logloss:0.475662\n",
      "Stopping. Best iteration:\n",
      "[340]\tvalidation_0-logloss:0.475572\n",
      "\n"
     ]
    },
    {
     "data": {
      "text/plain": [
       "XGBClassifier(base_score=0.5, booster='gbtree', colsample_bylevel=1,\n",
       "       colsample_bytree=1, gamma=0, learning_rate=0.1, max_delta_step=0,\n",
       "       max_depth=1, min_child_weight=1, missing=None, n_estimators=1000,\n",
       "       n_jobs=1, nthread=None, objective='binary:logistic', random_state=0,\n",
       "       reg_alpha=0, reg_lambda=1, scale_pos_weight=1, seed=None,\n",
       "       silent=True, subsample=1)"
      ]
     },
     "execution_count": 16,
     "metadata": {},
     "output_type": "execute_result"
    }
   ],
   "source": [
    "xg = xgb.XGBClassifier(n_estimators=1000, max_depth=1, objective= 'binary:logistic')\n",
    "cvx = x[:3500,:]; cvy = y[:3500];       # トレーニングデータ\n",
    "eval_set = [(x[3500:,:], y[3500:])]    # 検証用のデータ\n",
    "xg.fit(cvx, cvy, early_stopping_rounds=10, eval_metric=\"logloss\", eval_set=eval_set,verbose=True) # verboseを設定：途中経過をプリント"
   ]
  },
  {
   "cell_type": "code",
   "execution_count": 17,
   "metadata": {},
   "outputs": [
    {
     "data": {
      "text/plain": [
       "340"
      ]
     },
     "execution_count": 17,
     "metadata": {},
     "output_type": "execute_result"
    }
   ],
   "source": [
    "xg.best_iteration          # 最適なラウンド数"
   ]
  },
  {
   "cell_type": "code",
   "execution_count": 18,
   "metadata": {},
   "outputs": [
    {
     "name": "stderr",
     "output_type": "stream",
     "text": [
      "/Users/kanamori/.pyenv/versions/anaconda3-5.0.1/lib/python3.6/site-packages/sklearn/preprocessing/label.py:151: DeprecationWarning: The truth value of an empty array is ambiguous. Returning False, but in future this will result in an error. Use `array.size > 0` to check that an array is not empty.\n",
      "  if diff:\n"
     ]
    },
    {
     "data": {
      "text/plain": [
       "0.2581238503985285"
      ]
     },
     "execution_count": 18,
     "metadata": {},
     "output_type": "execute_result"
    }
   ],
   "source": [
    "1-xg.score(tx,ty)          # テスト誤差"
   ]
  },
  {
   "cell_type": "code",
   "execution_count": 19,
   "metadata": {},
   "outputs": [
    {
     "data": {
      "text/plain": [
       "array([[0.8647039 , 0.13529609],\n",
       "       [0.71939564, 0.28060433],\n",
       "       [0.87615305, 0.12384693],\n",
       "       ...,\n",
       "       [0.90386677, 0.0961332 ],\n",
       "       [0.23375934, 0.76624066],\n",
       "       [0.05047113, 0.9495289 ]], dtype=float32)"
      ]
     },
     "execution_count": 19,
     "metadata": {},
     "output_type": "execute_result"
    }
   ],
   "source": [
    "xg.predict_proba(tx)      # 予測点における各ラベルの条件付き確率"
   ]
  }
 ],
 "metadata": {
  "kernelspec": {
   "display_name": "Python 3",
   "language": "python",
   "name": "python3"
  },
  "language_info": {
   "codemirror_mode": {
    "name": "ipython",
    "version": 3
   },
   "file_extension": ".py",
   "mimetype": "text/x-python",
   "name": "python",
   "nbconvert_exporter": "python",
   "pygments_lexer": "ipython3",
   "version": "3.6.3"
  }
 },
 "nbformat": 4,
 "nbformat_minor": 2
}
