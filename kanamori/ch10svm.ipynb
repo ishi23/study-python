{
 "cells": [
  {
   "cell_type": "code",
   "execution_count": 1,
   "metadata": {
    "collapsed": true
   },
   "outputs": [],
   "source": [
    "import numpy as np               \n",
    "import matplotlib.pyplot as plt  \n",
    "import pandas as pd\n",
    "from sklearn.svm import SVC"
   ]
  },
  {
   "cell_type": "markdown",
   "metadata": {},
   "source": [
    "# 2値判別のサポートベクトルマシン"
   ]
  },
  {
   "cell_type": "code",
   "execution_count": 2,
   "metadata": {},
   "outputs": [
    {
     "data": {
      "text/plain": [
       "0.09"
      ]
     },
     "execution_count": 2,
     "metadata": {},
     "output_type": "execute_result"
    }
   ],
   "source": [
    "from common import mlbench as ml\n",
    "X,y = ml.twoDnormals(200, cl=2, sd=1)  # トレーニングデータ\n",
    "sv = SVC(kernel=\"linear\")\n",
    "sv.fit(X,y)                                     # フィッティング\n",
    "np.mean(sv.predict(X)!=y)        # トレーニング誤差の計算"
   ]
  },
  {
   "cell_type": "code",
   "execution_count": 3,
   "metadata": {},
   "outputs": [
    {
     "data": {
      "text/plain": [
       "{'C': 1.0,\n",
       " 'cache_size': 200,\n",
       " 'class_weight': None,\n",
       " 'coef0': 0.0,\n",
       " 'decision_function_shape': 'ovr',\n",
       " 'degree': 3,\n",
       " 'gamma': 'auto',\n",
       " 'kernel': 'linear',\n",
       " 'max_iter': -1,\n",
       " 'probability': False,\n",
       " 'random_state': None,\n",
       " 'shrinking': True,\n",
       " 'tol': 0.001,\n",
       " 'verbose': False}"
      ]
     },
     "execution_count": 3,
     "metadata": {},
     "output_type": "execute_result"
    }
   ],
   "source": [
    "sv.get_params()"
   ]
  },
  {
   "cell_type": "code",
   "execution_count": 4,
   "metadata": {},
   "outputs": [
    {
     "data": {
      "text/plain": [
       "0.08799999999999997"
      ]
     },
     "execution_count": 4,
     "metadata": {},
     "output_type": "execute_result"
    }
   ],
   "source": [
    "tX,ty = ml.twoDnormals(1000, cl=2, sd=1)   # テストデータ  \n",
    "py = sv.predict(tX)    # 予測ラベル\n",
    "np.mean(ty!=py)\n",
    "1-sv.score(tX,ty)      # scoreで精度を計算．"
   ]
  },
  {
   "cell_type": "markdown",
   "metadata": {},
   "source": [
    "# カーネル・サポートベクトルマシン"
   ]
  },
  {
   "cell_type": "code",
   "execution_count": 5,
   "metadata": {
    "collapsed": true
   },
   "outputs": [],
   "source": [
    "X,y = ml.spirals(300, cycles=1,sd=0.15)       # トレーニングデータ\n",
    "tX,ty = ml.spirals(1000,cycles=1,sd=0.15)     # テストデータ"
   ]
  },
  {
   "cell_type": "code",
   "execution_count": 6,
   "metadata": {},
   "outputs": [
    {
     "data": {
      "text/plain": [
       "0.44299999999999995"
      ]
     },
     "execution_count": 6,
     "metadata": {},
     "output_type": "execute_result"
    }
   ],
   "source": [
    "# 2次多項式カーネル\n",
    "sv2 = SVC(kernel=\"poly\",degree=2,gamma=1,coef0=1)\n",
    "sv2.fit(X,y)              # フィッティング\n",
    "1-sv2.score(tX,ty)        # テスト誤差"
   ]
  },
  {
   "cell_type": "code",
   "execution_count": 7,
   "metadata": {},
   "outputs": [
    {
     "data": {
      "text/plain": [
       "0.21199999999999997"
      ]
     },
     "execution_count": 7,
     "metadata": {},
     "output_type": "execute_result"
    }
   ],
   "source": [
    "# 3次多項式カーネル\n",
    "sv3 = SVC(kernel=\"poly\",degree=3,gamma=1,coef0=1)\n",
    "sv3.fit(X,y)              # フィッティング\n",
    "1-sv3.score(tX,ty)        # テスト誤差"
   ]
  },
  {
   "cell_type": "code",
   "execution_count": 8,
   "metadata": {
    "collapsed": true
   },
   "outputs": [],
   "source": [
    "# 判別境界のプロット\n",
    "from common.contourFittedClass import cplot                       # 等高線プロット用関数 (contourFittedClass.py)\n",
    "X,y   = ml.spirals(300, cycles=1,sd=0.15)     # トレーニングデータ"
   ]
  },
  {
   "cell_type": "code",
   "execution_count": 9,
   "metadata": {},
   "outputs": [
    {
     "data": {
      "image/png": "[encoded data removed]",
      "text/plain": [
       "<matplotlib.figure.Figure at 0x1a10d04f60>"
      ]
     },
     "metadata": {},
     "output_type": "display_data"
    }
   ],
   "source": [
    "# 2次多項式カーネル\n",
    "sv = SVC(kernel=\"poly\",degree=2,gamma=1,coef0=1)\n",
    "sv.fit(X,y) \n",
    "cplot(sv,X,y,h=0.005)"
   ]
  },
  {
   "cell_type": "code",
   "execution_count": 10,
   "metadata": {},
   "outputs": [
    {
     "data": {
      "image/png": "[encoded data removed]",
      "text/plain": [
       "<matplotlib.figure.Figure at 0x1a10d04ef0>"
      ]
     },
     "metadata": {},
     "output_type": "display_data"
    }
   ],
   "source": [
    "# 3次多項式カーネル\n",
    "sv = SVC(kernel=\"poly\",degree=3,gamma=1,coef0=1)\n",
    "sv.fit(X,y) \n",
    "cplot(sv,X,y,h=0.005)"
   ]
  },
  {
   "cell_type": "markdown",
   "metadata": {},
   "source": [
    "# モデルパラメータの選択"
   ]
  },
  {
   "cell_type": "code",
   "execution_count": 11,
   "metadata": {},
   "outputs": [
    {
     "data": {
      "text/plain": [
       "array([0.95081967, 0.88333333, 0.9       , 0.86666667, 0.94915254])"
      ]
     },
     "execution_count": 11,
     "metadata": {},
     "output_type": "execute_result"
    }
   ],
   "source": [
    "from sklearn.model_selection import cross_validate\n",
    "X,y = ml.twoDnormals(300, cl=2, sd=1)   # トレーニングデータ(2D混合正規)\n",
    "# K-重交差検証法(K=5)：gamma=0.1, C=1のときの検証誤差を計算\n",
    "sv = SVC(kernel=\"rbf\",gamma=0.1,C=1)         # SVM(ガウスカーネル)\n",
    "cv = cross_validate(sv, X, y, scoring='accuracy', cv=5)\n",
    "cv['test_score']                             # テスト誤差の推定結果を表示"
   ]
  },
  {
   "cell_type": "code",
   "execution_count": 12,
   "metadata": {},
   "outputs": [
    {
     "data": {
      "text/plain": [
       "0.9099944429008058"
      ]
     },
     "execution_count": 12,
     "metadata": {},
     "output_type": "execute_result"
    }
   ],
   "source": [
    "np.mean(cv['test_score'])       # 交差検証法による精度の推定"
   ]
  },
  {
   "cell_type": "code",
   "execution_count": 13,
   "metadata": {},
   "outputs": [
    {
     "data": {
      "text/plain": [
       "0.09000555709919422"
      ]
     },
     "execution_count": 13,
     "metadata": {},
     "output_type": "execute_result"
    }
   ],
   "source": [
    "1-np.mean(cv['test_score'])     # 検証誤差"
   ]
  },
  {
   "cell_type": "code",
   "execution_count": 14,
   "metadata": {},
   "outputs": [
    {
     "data": {
      "text/plain": [
       "array([59.43998289, 21.44759345, 12.94440628,  9.29994914,  7.25335808,\n",
       "        5.92046151,  4.94432375,  4.25651416,  3.70588712,  3.26303017,\n",
       "        2.92787089,  2.6277863 ,  2.40756419,  2.19433857,  2.01911795,\n",
       "        1.86526835,  1.73966396,  1.61657282,  1.50688   ,  1.40446418,\n",
       "        1.31569932,  1.23622473,  1.16310637,  1.09720713,  1.03404849,\n",
       "        0.97959768,  0.92460273,  0.87956699,  0.83432046,  0.79001358,\n",
       "        0.7518552 ,  0.71534552,  0.6804426 ,  0.6468413 ,  0.61689631,\n",
       "        0.58747445,  0.55835247,  0.53265748,  0.50578165,  0.4788329 ,\n",
       "        0.45444017,  0.43062232,  0.40627403,  0.38282433,  0.35987935,\n",
       "        0.33664644,  0.31283506,  0.28379637,  0.25349192,  0.20877325])"
      ]
     },
     "execution_count": 14,
     "metadata": {},
     "output_type": "execute_result"
    }
   ],
   "source": [
    "from scipy.spatial import distance\n",
    "X,y = ml.spirals(200, cycles=1.2, sd=0.16)  # トレーニングデータ\n",
    "dm = distance.pdist(X)                           # 距離行列の計算\n",
    "# 距離の分位点からgammaの候補値を設定\n",
    "cg = 1/np.percentile(dm,np.arange(1,100,2))**2 \n",
    "cg"
   ]
  },
  {
   "cell_type": "code",
   "execution_count": 15,
   "metadata": {},
   "outputs": [
    {
     "data": {
      "text/plain": [
       "12.944406283884224"
      ]
     },
     "execution_count": 15,
     "metadata": {},
     "output_type": "execute_result"
    }
   ],
   "source": [
    "ncv = 5                           # K=5でK-重交差検証法を実行\n",
    "cvg = np.array([])\n",
    "for g in cg:                      # 各gammaごとに検証誤差を計算\n",
    "    sv = SVC(kernel=\"rbf\", gamma=g, C=1)\n",
    "    cv = cross_validate(sv,X,y,scoring='accuracy',cv=ncv)\n",
    "    cvg = np.r_[cvg,np.mean(cv['test_score'])]\n",
    "cverr = 1-cvg                         # 検証誤差\n",
    "opt_gamma = cg[np.argmin(cverr)]      # 最適なgamma\n",
    "opt_gamma"
   ]
  },
  {
   "cell_type": "code",
   "execution_count": 16,
   "metadata": {
    "collapsed": true
   },
   "outputs": [],
   "source": [
    "X,y   = ml.spirals(300, cycles=1,sd=0.15)     # トレーニングデータ\n",
    "tX,ty = ml.spirals(1000,cycles=1,sd=0.15)     # テストデータ"
   ]
  },
  {
   "cell_type": "code",
   "execution_count": 17,
   "metadata": {},
   "outputs": [
    {
     "name": "stdout",
     "output_type": "stream",
     "text": [
      "テスト誤差:  0.493\n"
     ]
    },
    {
     "data": {
      "image/png": "[encoded data removed]",
      "text/plain": [
       "<matplotlib.figure.Figure at 0x1a10d046a0>"
      ]
     },
     "metadata": {},
     "output_type": "display_data"
    }
   ],
   "source": [
    "sv = SVC(kernel=\"rbf\",C=1,gamma=cg.min())\n",
    "sv.fit(X,y)                                           # フィッティング\n",
    "print(\"テスト誤差: \", 1-sv.score(tX,ty))            \n",
    "cplot(sv,X,y,h=0.005)"
   ]
  },
  {
   "cell_type": "code",
   "execution_count": 18,
   "metadata": {},
   "outputs": [
    {
     "name": "stdout",
     "output_type": "stream",
     "text": [
      "テスト誤差:  0.14900000000000002\n"
     ]
    },
    {
     "data": {
      "image/png": "[encoded data removed]",
      "text/plain": [
       "<matplotlib.figure.Figure at 0x1a13f10400>"
      ]
     },
     "metadata": {},
     "output_type": "display_data"
    }
   ],
   "source": [
    "sv = SVC(kernel=\"rbf\",C=1,gamma=opt_gamma)\n",
    "sv.fit(X,y)                                    # フィッティング\n",
    "print('テスト誤差: ', 1-sv.score(tX,ty))            \n",
    "cplot(sv,X,y,h=0.005)"
   ]
  },
  {
   "cell_type": "code",
   "execution_count": 19,
   "metadata": {},
   "outputs": [
    {
     "name": "stdout",
     "output_type": "stream",
     "text": [
      "テスト誤差:  0.16100000000000003\n"
     ]
    },
    {
     "data": {
      "image/png": "[encoded data removed]",
      "text/plain": [
       "<matplotlib.figure.Figure at 0x1a147e85c0>"
      ]
     },
     "metadata": {},
     "output_type": "display_data"
    }
   ],
   "source": [
    "sv = SVC(kernel=\"rbf\",C=1,gamma=cg.max())\n",
    "sv.fit(X,y)            # フィッティング\n",
    "print('テスト誤差: ',1-sv.score(tX,ty))          \n",
    "cplot(sv,X,y,h=0.005)"
   ]
  },
  {
   "cell_type": "markdown",
   "metadata": {},
   "source": [
    "# 多値判別"
   ]
  },
  {
   "cell_type": "code",
   "execution_count": 20,
   "metadata": {
    "collapsed": true
   },
   "outputs": [],
   "source": [
    "G = 8                                   # 8クラスの多値判別\n",
    "X,y = ml.twoDnormals(500, cl=G,sd=0.8)       # トレーニングデータ\n",
    "tX,ty = ml.twoDnormals(1000,cl=G,sd=0.8)  # テストデータ"
   ]
  },
  {
   "cell_type": "code",
   "execution_count": 21,
   "metadata": {},
   "outputs": [
    {
     "data": {
      "text/plain": [
       "0.18300000000000005"
      ]
     },
     "execution_count": 21,
     "metadata": {},
     "output_type": "execute_result"
    }
   ],
   "source": [
    "# 一対一法のサポートベクトルマシンで多値判別\n",
    "# 線形カーネル\n",
    "svlin = SVC(kernel='linear',decision_function_shape='ovo')\n",
    "svlin.fit(X,y)         # フィッティング\n",
    "1-svlin.score(tX,ty)   # テスト誤差"
   ]
  },
  {
   "cell_type": "code",
   "execution_count": 22,
   "metadata": {},
   "outputs": [
    {
     "data": {
      "text/plain": [
       "0.17800000000000005"
      ]
     },
     "execution_count": 22,
     "metadata": {},
     "output_type": "execute_result"
    }
   ],
   "source": [
    "# ガウスカーネル\n",
    "svrbf = SVC(kernel='rbf',decision_function_shape='ovo')\n",
    "svrbf.fit(X,y)         # フィッティング\n",
    "1-svrbf.score(tX,ty)   # テスト誤差"
   ]
  },
  {
   "cell_type": "code",
   "execution_count": 23,
   "metadata": {
    "collapsed": true
   },
   "outputs": [],
   "source": [
    "# 手書き文字認識   \n",
    "from scipy.spatial import distance           # distanceを使う\n",
    "# データ読込\n",
    "tr = pd.read_csv('data/optdigits_train.csv').values\n",
    "te = pd.read_csv('data/optdigits_test.csv').values\n",
    "X,y = tr[:,:64], tr[:,64]\n",
    "tX,ty = te[:,:64], te[:,64]"
   ]
  },
  {
   "cell_type": "code",
   "execution_count": 24,
   "metadata": {},
   "outputs": [
    {
     "data": {
      "text/plain": [
       "0.0"
      ]
     },
     "execution_count": 24,
     "metadata": {},
     "output_type": "execute_result"
    }
   ],
   "source": [
    "# 線形カーネルで学習\n",
    "svlin = SVC(kernel='linear',decision_function_shape='ovo')\n",
    "svlin.fit(X,y)\n",
    "1-svlin.score(X,y)     # トレーニング誤差"
   ]
  },
  {
   "cell_type": "code",
   "execution_count": 25,
   "metadata": {},
   "outputs": [
    {
     "data": {
      "text/plain": [
       "0.03897550111358572"
      ]
     },
     "execution_count": 25,
     "metadata": {},
     "output_type": "execute_result"
    }
   ],
   "source": [
    "1-svlin.score(tX,ty)   # テスト誤差"
   ]
  },
  {
   "cell_type": "code",
   "execution_count": 26,
   "metadata": {},
   "outputs": [
    {
     "data": {
      "text/plain": [
       "0.00042283298097251594"
      ]
     },
     "execution_count": 26,
     "metadata": {},
     "output_type": "execute_result"
    }
   ],
   "source": [
    "# ガウスカーネルによる学習\n",
    "# 一部のデータを使ってヒューリスティクスで gamma を設定．\n",
    "pX = X[np.random.choice(X.shape[0],round(X.shape[0]/10)),:]\n",
    "g = 1/np.median(distance.pdist(pX))**2     # 距離行列からgammaの値を設定\n",
    "g"
   ]
  },
  {
   "cell_type": "code",
   "execution_count": 27,
   "metadata": {},
   "outputs": [
    {
     "data": {
      "text/plain": [
       "0.006802721088435382"
      ]
     },
     "execution_count": 27,
     "metadata": {},
     "output_type": "execute_result"
    }
   ],
   "source": [
    "svrbf = SVC(kernel='rbf',decision_function_shape='ovo',gamma=g)\n",
    "svrbf.fit(X,y)\n",
    "1-svrbf.score(X,y)       # トレーニング誤差"
   ]
  },
  {
   "cell_type": "code",
   "execution_count": 28,
   "metadata": {},
   "outputs": [
    {
     "data": {
      "text/plain": [
       "0.02394209354120269"
      ]
     },
     "execution_count": 28,
     "metadata": {},
     "output_type": "execute_result"
    }
   ],
   "source": [
    "1-svrbf.score(tX,ty)     # テスト誤差"
   ]
  },
  {
   "cell_type": "code",
   "execution_count": 29,
   "metadata": {},
   "outputs": [
    {
     "data": {
      "text/plain": [
       "0.0"
      ]
     },
     "execution_count": 29,
     "metadata": {},
     "output_type": "execute_result"
    }
   ],
   "source": [
    "# ガウスカーネルのカーネル幅を変更\n",
    "g = 0.01\n",
    "svrbf = SVC(kernel='rbf',decision_function_shape='ovo',gamma=g)\n",
    "svrbf.fit(X,y)\n",
    "1-svrbf.score(X,y)       # トレーニング誤差"
   ]
  },
  {
   "cell_type": "code",
   "execution_count": 30,
   "metadata": {},
   "outputs": [
    {
     "data": {
      "text/plain": [
       "0.2611358574610245"
      ]
     },
     "execution_count": 30,
     "metadata": {},
     "output_type": "execute_result"
    }
   ],
   "source": [
    "1-svrbf.score(tX,ty)     # テスト誤差"
   ]
  }
 ],
 "metadata": {
  "kernelspec": {
   "display_name": "Python 3",
   "language": "python",
   "name": "python3"
  },
  "language_info": {
   "codemirror_mode": {
    "name": "ipython",
    "version": 3
   },
   "file_extension": ".py",
   "mimetype": "text/x-python",
   "name": "python",
   "nbconvert_exporter": "python",
   "pygments_lexer": "ipython3",
   "version": "3.6.3"
  }
 },
 "nbformat": 4,
 "nbformat_minor": 2
}
